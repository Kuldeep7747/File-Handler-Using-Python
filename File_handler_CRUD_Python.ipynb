{
  "cells": [
    {
      "cell_type": "markdown",
      "metadata": {
        "id": "KEk36hiNTbfE"
      },
      "source": [
        "# Introduction\n",
        "\n",
        "Accurate and efficient management of product information is essential for the success of e-commerce businesses. This information enables informed decision-making and facilitates effective marketing strategies. However, traditional methods of handling product data may be cumbersome and prone to errors. They often involve manual entry and maintenance processes, leading to inconsistencies and inefficiencies. By harnessing the capabilities of Python programming, we can develop a solution that automates tasks such as adding, reading, updating, and deleting product information. This streamlined approach not only enhances data accuracy and reliability but also improves operational efficiency.\n",
        "\n",
        "The kind of operations that we are going to focus on have an acronym: CRUD (Create, Retrieve, Update, and Delete)."
      ]
    },
    {
      "cell_type": "markdown",
      "metadata": {
        "id": "yAXrIqlKjthg"
      },
      "source": [
        "**CRUD** operations represent the four basic functions that are essential to interact with a database or a data storage system. The acronym CRUD stands for Create, Read, Update, and Delete. These operations form the foundation of most applications that store and manipulate data. Understanding CRUD is crucial for developers working on web, software, and database applications. Here's a brief overview of each operation:\n",
        "\n",
        "- **Create**: This operation is used to add new records to a database. It involves inserting data into a database table or a data structure. For example, adding a new user to a user database is a Create operation.\n",
        "\n",
        "- **Read**: The Read operation is used to retrieve or read data from a database. It involves querying the database to fetch information based on certain criteria. For example, fetching all the information about a product.\n",
        "\n",
        "- **Update**: This operation is used to modify existing data in a database. It involves updating one or more fields of a database record. For example, changing a user's email address in a user database is an Update operation.\n",
        "\n",
        "- **Delete**: The Delete operation is used to remove records from a database. It involves deleting one or more records from a database table. For example, removing a user from a user database is a Delete operation.\n",
        "\n",
        "These operations are vital for managing data effectively in any application. They allow applications to perform basic data management tasks, ensuring that the data is accurate, consistent, and accessible.\n",
        "\n"
      ]
    },
    {
      "cell_type": "markdown",
      "metadata": {
        "id": "_bIkNbC2z8oL"
      },
      "source": [
        "# Problem Statement\n",
        "Your task is to develop a product information management system for an e-commerce platform that facilitates the creation, retrieval, updation, and deletion of product details, sales data, and descriptions.\n",
        "\n",
        "To solve this, you will first load the whole dataset into the computer's memory and provide the user's choice to choose between the CRUD operations. When the user has made a choice, you will perform the chosen operation by allowing the user to input the required information. When the user is done with his task and chooses to exit the program, you will save the new files in the same folder by overwriting the files.\n",
        "\n",
        "# Data Description\n",
        "The dataset for this project has been provided in the *filehandler_data.zip* file. It containes data about products for which the unique ID provided is the stock keeping unit or SKU for short. The ZIP file contains a structured collection of sales data and product information organized into a main folder with three key components:\n",
        "\n",
        "- **Sales Data** (*sales_data.csv*): A *CSV* file that includes sales data for various products over a 14-day period. Each row corresponds to a different product, identified by a *Product_SKU*. The columns *Day1* through *Day14* represent the sales figures for each consecutive day.\n",
        "\n",
        "- **Product Descriptions** (*product_descriptions* folder): This folder contains text files, each corresponding to a specific product identified by SKU in the filename (e.g., *description_AISJDKFJW93NJ.txt*). These files provide descriptive information about the products.\n",
        "\n",
        "- **Product Details** (*product_details* folder): This folder includes *JSON* files, again with filenames corresponding to product SKUs (e.g., *details_AISJDKFJW93NJ.json*). These files contain detailed attributes of the products, such as specifications, category, pricing, etc.\n",
        "\n",
        "This dataset is designed for analyzing daily sales performance of products, supplemented with detailed product information and descriptions to allow for a comprehensive analysis of sales trends in relation to product attributes and descriptions.\n"
      ]
    },
    {
      "cell_type": "markdown",
      "metadata": {
        "id": "TCi_8EQ_SKh2"
      },
      "source": [
        "# Outline\n",
        "The overall objective of this project is to create a system for managing product information in an e-commerce platform. The different stages involved in the process are outlined below:\n",
        "\n",
        "- Stage 1 - Setup\n",
        "    - Task 1 - Import required modules\n",
        "    - Task 2 - Load the data\n",
        "    - Task 3 - Explore the data\n",
        "- Stage 2 - Create\n",
        "    - Task 4 - Add sales data\n",
        "    - Task 5 - Add product details\n",
        "    - Task 6 - Add product description\n",
        "    - Task 7 - Create function\n",
        "- Stage 3 - Read\n",
        "    - Task 8  - Display sales data\n",
        "    - Task 9  - Display product details\n",
        "    - Task 10 - Display product descriptions\n",
        "    - Task 11 - Read function\n",
        "- Stage 4 - Update\n",
        "    - Task 12 - Update sales data\n",
        "    - Task 13 - Update product details\n",
        "    - Task 14 - Update product description\n",
        "    - Task 15 - Update function\n",
        "- Stage 5 - Delete\n",
        "    - Task 16 - Delete function\n",
        "- Stage 6 - Bringing it all together\n",
        "    - Task 17 - Save data to disk\n",
        "    - Task 18 - Create a user menu"
      ]
    },
    {
      "cell_type": "markdown",
      "metadata": {
        "id": "nSDjItPDapX4"
      },
      "source": [
        "# Stage 1 - Setup\n",
        "In this stage, you will set up the environment for this assignment by loading the required modules and files. You will explore the files by displaying their content. You will achieve all of this by completing the following three tasks:\n",
        "- Task 1 - Import required modules\n",
        "- Task 2 - Load the data\n",
        "- Task 3 - Explore the data"
      ]
    },
    {
      "cell_type": "markdown",
      "metadata": {
        "id": "7fwAly7Kc9ei"
      },
      "source": [
        "## Task 1 - Import required modules"
      ]
    },
    {
      "cell_type": "markdown",
      "metadata": {
        "id": "mWz3KDiuotgp"
      },
      "source": [
        "### Description\n",
        "In this task, you will import all the necessary modules and packages required for performing various operations in the project."
      ]
    },
    {
      "cell_type": "markdown",
      "metadata": {
        "id": "1IfJUOrG0JBZ"
      },
      "source": [
        "### Requirements\n",
        "Write code to import the following packages:\n",
        "\n",
        "- For handling raw data files\n",
        "- For working with JSON files\n",
        "- For working with CSV files\n",
        "- For printing Python data structures in an organized manner"
      ]
    },
    {
      "cell_type": "markdown",
      "metadata": {
        "id": "tDTVcD_V0WVh"
      },
      "source": [
        "### Recommendations\n",
        "- You can ask ChatGPT about the libraries that will be required to perform the given tasks.\n",
        "\n",
        "\n"
      ]
    },
    {
      "cell_type": "markdown",
      "metadata": {
        "id": "3hjXLR-lwERP"
      },
      "source": [
        "First, import the required packages."
      ]
    },
    {
      "cell_type": "code",
      "execution_count": 3,
      "metadata": {
        "id": "uKKJxfEj6o1C"
      },
      "outputs": [],
      "source": [
        "# Use this cell to import all the required packages and methods\n",
        "\n",
        "import os\n",
        "import csv\n",
        "import json\n",
        "from pprint import pprint\n",
        "import pprint\n",
        "import zipfile\n"
      ]
    },
    {
      "cell_type": "markdown",
      "metadata": {
        "id": "CK1NbJlcow44"
      },
      "source": [
        "### Checklist\n",
        "\n",
        "- Imported the required packages\n"
      ]
    },
    {
      "cell_type": "markdown",
      "metadata": {
        "id": "BOLRp-Ydph2X"
      },
      "source": [
        "## Task 2 - Load the data"
      ]
    },
    {
      "cell_type": "markdown",
      "metadata": {
        "id": "n3LqSPrspl8b"
      },
      "source": [
        "### Description\n",
        "In this task, you will write a function that ensures that the necessary files are loaded into the environment. To index the data, you will use a unique identifier called SKU.\n",
        "\n",
        "This includes loading sales data from a CSV file, product details from JSON files, and product descriptions from text files. We recommend that you either use Jupyter Notebook or Google Colab to build and execute your code."
      ]
    },
    {
      "cell_type": "markdown",
      "metadata": {
        "id": "x1pJXGbJqeIy"
      },
      "source": [
        "### Requirements\n",
        "- In case you are using Google Colab,\n",
        "    - import `drive` from `google.colab` and mount your Google Drive or\n",
        "    - import `files` from `google.colab`.\n",
        "- In case you are using Jupyter Notebook, please make sure that your files and folders are all in the right place.\n",
        "- Unzip the data and save the location of the main folder in a variable called *main_folder_address*.\n",
        "- Define a function `load_data()`:\n",
        "    - The function must read\n",
        "      - Sales data from *sales_data.csv* file,\n",
        "      - Product details from JSON files in the *product_details* folder, and\n",
        "      - Product descriptions from the TXT files in *product_description* folder\n",
        "      \n",
        "    - Once the data has been loaded, it must be stored in three dictionaries, one for sales data, another for product details, and another for product descriptions.\n",
        "    - The three dictionaries should have the product SKU as keys and:\n",
        "        - In the `product_details` dictionary, the values should also be dictionaries containing detailed attributes of the products, such as specifications, category, pricing, etc.\n",
        "        - In the `sales_data` dictionary, the values should be lists consisting of the sales data from the last 14 days.\n",
        "        - In the `product_descriptions` dictionary, the values should be strings in which the product description is saved.\n",
        "    - It should have the following keyword argument:\n",
        "        - *mainfolder*: A string that describes the address of the parent data folder in the memory.\n",
        "    - The functions should return a tuple containing three dictionaries:\n",
        "        - `product_details`: A dictionary of dictionaries where keys are product SKUs (extracted from the filenames of the JSON files) and values are product details loaded from the JSON files.\n",
        "        - `sales_data`: A dictionary where keys are product SKUs (from the CSV file) and values are lists of quantities corresponding to sales data.\n",
        "        - `product_descriptions`: A dictionary where keys are product SKUs (extracted from the filenames of the TXT files)\n",
        "        and values are product descriptions loaded from TXT files."
      ]
    },
    {
      "cell_type": "markdown",
      "metadata": {
        "id": "5lfU3Pq-67sn"
      },
      "source": [
        "### Recommendations\n",
        "- If you are using Google Colab:\n",
        "  - Upload the zip file containing the files in Google Drive or upload the zip file directly to the Google Colab runtime.\n",
        "    - Then unzip it using `unzip` shell command which you can access using the `!` (exclamation mark) character.\n",
        "  - Once you have mounted Google Drive into your Google Colab VM or uploaded the zip file directly to the Google Colab runtime.\n",
        "    - You can use the *Files* section on the left to access the filesystem. You can right click on a file or folder to copy its path. This will be useful while specifying the source file in the `unzip` shell command.\n",
        "  - You will need to pass the location of the main folder into the `load_data()` function to load *sales_data.csv* file and the files in *product_details* and *product_description* folders.\n",
        "- Inside the `load_data()` function, you can:\n",
        "    - use the `csv.DictReader()` method to read the *sales_data.csv* file.\n",
        "    - use the `os.listdir()` method to obtain the names of the files and folders within a particular folder.\n",
        "    - use `os.path.join()` to construct file paths.\n",
        "    - use the `json.load()` method to load JSON files.\n",
        "    - use the `open()` function to load the text files.\n",
        "-  As you need to use the SKUs as keys in all three dictionaries, you can ask ChatGPT on how to extract the SKU values in all three cases.\n",
        "    - In *sales_data.csv* they have been saved in a column titled *Product_SKU*\n",
        "    - For the other two, you need to extract the SKU from the file name. Try using the in-built string function `split()`.\n",
        "    - Provide the data description and requirements to ChatGPT along with the libraries that you are using and ask it to generate code for the function.\n",
        "    - If you get stuck somewhere, you can ask ChatGPT to explain the code to you and you can make edits as required.\n"
      ]
    },
    {
      "cell_type": "markdown",
      "metadata": {
        "id": "VQRLEoiZ-QxY"
      },
      "source": [
        "First, if you are using Google Colab, mount Google Drive to your VM. If not, skip and comment out this cell."
      ]
    },
    {
      "cell_type": "code",
      "execution_count": 4,
      "metadata": {
        "id": "SKYzyofLO8KU",
        "colab": {
          "base_uri": "https://localhost:8080/"
        },
        "outputId": "a3f3ef4a-7622-4350-9a98-f72efd6a4e11"
      },
      "outputs": [
        {
          "output_type": "stream",
          "name": "stdout",
          "text": [
            "Mounted at /content/drive\n"
          ]
        }
      ],
      "source": [
        "# Use this cell to write your code for mounting your Google Drive\n",
        "# Note: If you are not using Google Colab, please skip this cell\n",
        "\n",
        "# In case you are using Google Colab, mount your Google Drive before moving on\n",
        "from google.colab import drive\n",
        "drive.mount('/content/drive', force_remount = True)\n"
      ]
    },
    {
      "cell_type": "markdown",
      "metadata": {
        "id": "EChyWcmq-5Vi"
      },
      "source": [
        "If you are using Colab, after mounting the drive you need to unzip the files to extract all the images inside it. Note that you don't need to perform this step more than once, so we recommend that you comment out your code for this step once it has executed."
      ]
    },
    {
      "cell_type": "code",
      "execution_count": 31,
      "metadata": {
        "id": "-6mxIHoPO7Um"
      },
      "outputs": [],
      "source": [
        "# Use this cell to write your code for unzipping the data and storing it in Google Drive\n",
        "# Note: If you are not using Google Colab, please skip this cell\n",
        "# Note: You can comment out this cell after running it once\n",
        "\n",
        "# # Unzip your files and store them in your drive\n",
        "# !unzip '/content/drive/My Drive/FileHandler/mainfolder.zip'\n",
        "\n",
        "\n",
        "\n",
        "\n"
      ]
    },
    {
      "cell_type": "markdown",
      "metadata": {
        "id": "LeX06K8AFxnC"
      },
      "source": [
        "You can also upload files to the Google Colab runtime environment without mounting Google Drive. In this case so you will always be in the same *path/directory* inside your Google Colab runtime. Files will be saved into your runtime and not into your Google Drive.\n",
        "The files you uploaded will be available until you delete the runtime."
      ]
    },
    {
      "cell_type": "code",
      "execution_count": null,
      "metadata": {
        "id": "eupwHKLZEE3b",
        "colab": {
          "base_uri": "https://localhost:8080/",
          "height": 73
        },
        "outputId": "f4aecd25-6e5b-4699-9629-78b0c3d64320"
      },
      "outputs": [
        {
          "output_type": "display_data",
          "data": {
            "text/plain": [
              "<IPython.core.display.HTML object>"
            ],
            "text/html": [
              "\n",
              "     <input type=\"file\" id=\"files-f9c5db3f-1924-41be-ab54-f73cda94193f\" name=\"files[]\" multiple disabled\n",
              "        style=\"border:none\" />\n",
              "     <output id=\"result-f9c5db3f-1924-41be-ab54-f73cda94193f\">\n",
              "      Upload widget is only available when the cell has been executed in the\n",
              "      current browser session. Please rerun this cell to enable.\n",
              "      </output>\n",
              "      <script>// Copyright 2017 Google LLC\n",
              "//\n",
              "// Licensed under the Apache License, Version 2.0 (the \"License\");\n",
              "// you may not use this file except in compliance with the License.\n",
              "// You may obtain a copy of the License at\n",
              "//\n",
              "//      http://www.apache.org/licenses/LICENSE-2.0\n",
              "//\n",
              "// Unless required by applicable law or agreed to in writing, software\n",
              "// distributed under the License is distributed on an \"AS IS\" BASIS,\n",
              "// WITHOUT WARRANTIES OR CONDITIONS OF ANY KIND, either express or implied.\n",
              "// See the License for the specific language governing permissions and\n",
              "// limitations under the License.\n",
              "\n",
              "/**\n",
              " * @fileoverview Helpers for google.colab Python module.\n",
              " */\n",
              "(function(scope) {\n",
              "function span(text, styleAttributes = {}) {\n",
              "  const element = document.createElement('span');\n",
              "  element.textContent = text;\n",
              "  for (const key of Object.keys(styleAttributes)) {\n",
              "    element.style[key] = styleAttributes[key];\n",
              "  }\n",
              "  return element;\n",
              "}\n",
              "\n",
              "// Max number of bytes which will be uploaded at a time.\n",
              "const MAX_PAYLOAD_SIZE = 100 * 1024;\n",
              "\n",
              "function _uploadFiles(inputId, outputId) {\n",
              "  const steps = uploadFilesStep(inputId, outputId);\n",
              "  const outputElement = document.getElementById(outputId);\n",
              "  // Cache steps on the outputElement to make it available for the next call\n",
              "  // to uploadFilesContinue from Python.\n",
              "  outputElement.steps = steps;\n",
              "\n",
              "  return _uploadFilesContinue(outputId);\n",
              "}\n",
              "\n",
              "// This is roughly an async generator (not supported in the browser yet),\n",
              "// where there are multiple asynchronous steps and the Python side is going\n",
              "// to poll for completion of each step.\n",
              "// This uses a Promise to block the python side on completion of each step,\n",
              "// then passes the result of the previous step as the input to the next step.\n",
              "function _uploadFilesContinue(outputId) {\n",
              "  const outputElement = document.getElementById(outputId);\n",
              "  const steps = outputElement.steps;\n",
              "\n",
              "  const next = steps.next(outputElement.lastPromiseValue);\n",
              "  return Promise.resolve(next.value.promise).then((value) => {\n",
              "    // Cache the last promise value to make it available to the next\n",
              "    // step of the generator.\n",
              "    outputElement.lastPromiseValue = value;\n",
              "    return next.value.response;\n",
              "  });\n",
              "}\n",
              "\n",
              "/**\n",
              " * Generator function which is called between each async step of the upload\n",
              " * process.\n",
              " * @param {string} inputId Element ID of the input file picker element.\n",
              " * @param {string} outputId Element ID of the output display.\n",
              " * @return {!Iterable<!Object>} Iterable of next steps.\n",
              " */\n",
              "function* uploadFilesStep(inputId, outputId) {\n",
              "  const inputElement = document.getElementById(inputId);\n",
              "  inputElement.disabled = false;\n",
              "\n",
              "  const outputElement = document.getElementById(outputId);\n",
              "  outputElement.innerHTML = '';\n",
              "\n",
              "  const pickedPromise = new Promise((resolve) => {\n",
              "    inputElement.addEventListener('change', (e) => {\n",
              "      resolve(e.target.files);\n",
              "    });\n",
              "  });\n",
              "\n",
              "  const cancel = document.createElement('button');\n",
              "  inputElement.parentElement.appendChild(cancel);\n",
              "  cancel.textContent = 'Cancel upload';\n",
              "  const cancelPromise = new Promise((resolve) => {\n",
              "    cancel.onclick = () => {\n",
              "      resolve(null);\n",
              "    };\n",
              "  });\n",
              "\n",
              "  // Wait for the user to pick the files.\n",
              "  const files = yield {\n",
              "    promise: Promise.race([pickedPromise, cancelPromise]),\n",
              "    response: {\n",
              "      action: 'starting',\n",
              "    }\n",
              "  };\n",
              "\n",
              "  cancel.remove();\n",
              "\n",
              "  // Disable the input element since further picks are not allowed.\n",
              "  inputElement.disabled = true;\n",
              "\n",
              "  if (!files) {\n",
              "    return {\n",
              "      response: {\n",
              "        action: 'complete',\n",
              "      }\n",
              "    };\n",
              "  }\n",
              "\n",
              "  for (const file of files) {\n",
              "    const li = document.createElement('li');\n",
              "    li.append(span(file.name, {fontWeight: 'bold'}));\n",
              "    li.append(span(\n",
              "        `(${file.type || 'n/a'}) - ${file.size} bytes, ` +\n",
              "        `last modified: ${\n",
              "            file.lastModifiedDate ? file.lastModifiedDate.toLocaleDateString() :\n",
              "                                    'n/a'} - `));\n",
              "    const percent = span('0% done');\n",
              "    li.appendChild(percent);\n",
              "\n",
              "    outputElement.appendChild(li);\n",
              "\n",
              "    const fileDataPromise = new Promise((resolve) => {\n",
              "      const reader = new FileReader();\n",
              "      reader.onload = (e) => {\n",
              "        resolve(e.target.result);\n",
              "      };\n",
              "      reader.readAsArrayBuffer(file);\n",
              "    });\n",
              "    // Wait for the data to be ready.\n",
              "    let fileData = yield {\n",
              "      promise: fileDataPromise,\n",
              "      response: {\n",
              "        action: 'continue',\n",
              "      }\n",
              "    };\n",
              "\n",
              "    // Use a chunked sending to avoid message size limits. See b/62115660.\n",
              "    let position = 0;\n",
              "    do {\n",
              "      const length = Math.min(fileData.byteLength - position, MAX_PAYLOAD_SIZE);\n",
              "      const chunk = new Uint8Array(fileData, position, length);\n",
              "      position += length;\n",
              "\n",
              "      const base64 = btoa(String.fromCharCode.apply(null, chunk));\n",
              "      yield {\n",
              "        response: {\n",
              "          action: 'append',\n",
              "          file: file.name,\n",
              "          data: base64,\n",
              "        },\n",
              "      };\n",
              "\n",
              "      let percentDone = fileData.byteLength === 0 ?\n",
              "          100 :\n",
              "          Math.round((position / fileData.byteLength) * 100);\n",
              "      percent.textContent = `${percentDone}% done`;\n",
              "\n",
              "    } while (position < fileData.byteLength);\n",
              "  }\n",
              "\n",
              "  // All done.\n",
              "  yield {\n",
              "    response: {\n",
              "      action: 'complete',\n",
              "    }\n",
              "  };\n",
              "}\n",
              "\n",
              "scope.google = scope.google || {};\n",
              "scope.google.colab = scope.google.colab || {};\n",
              "scope.google.colab._files = {\n",
              "  _uploadFiles,\n",
              "  _uploadFilesContinue,\n",
              "};\n",
              "})(self);\n",
              "</script> "
            ]
          },
          "metadata": {}
        },
        {
          "output_type": "stream",
          "name": "stdout",
          "text": [
            "Saving mainfolder.zip to mainfolder.zip\n"
          ]
        }
      ],
      "source": [
        "# Use this cell to write your code for uploading the zip file\n",
        "# Note: If you are not using Google Colab, please skip this cell\n",
        "\n",
        "# Upload the zip file to Google Colab runtime\n",
        "\n",
        "from google.colab import files\n",
        "uploaded = files.upload()"
      ]
    },
    {
      "cell_type": "markdown",
      "metadata": {
        "id": "ze-qtCwAGlhp"
      },
      "source": [
        "After uploading your zip file to Google Colab runtime you need to unzip the files to extract all the files inside it."
      ]
    },
    {
      "cell_type": "code",
      "execution_count": 30,
      "metadata": {
        "id": "JpKP8qUVuC2n",
        "colab": {
          "base_uri": "https://localhost:8080/"
        },
        "outputId": "f482d924-c630-4f3e-83c8-b8a02242fa89"
      },
      "outputs": [
        {
          "output_type": "stream",
          "name": "stdout",
          "text": [
            "Archive:  /content/drive/My Drive/FileHandler/mainfolder.zip\n",
            "   creating: /content/drive/My Drive/FileHandler/mainfolder/product_descriptions/\n",
            "  inflating: /content/drive/My Drive/FileHandler/mainfolder/product_descriptions/AISJDKFJW93NJ.txt  \n",
            "  inflating: /content/drive/My Drive/FileHandler/mainfolder/product_descriptions/DJKFIEI432FIE.txt  \n",
            "  inflating: /content/drive/My Drive/FileHandler/mainfolder/product_descriptions/GGOENEBJ079499.txt  \n",
            "  inflating: /content/drive/My Drive/FileHandler/mainfolder/product_descriptions/HJSKNWK429DJE.txt  \n",
            "  inflating: /content/drive/My Drive/FileHandler/mainfolder/product_descriptions/JFKL3940NFKLJ.txt  \n",
            "  inflating: /content/drive/My Drive/FileHandler/mainfolder/product_descriptions/LKDFJ49LSDJKL.txt  \n",
            "  inflating: /content/drive/My Drive/FileHandler/mainfolder/product_descriptions/MWKDI3JFK39SL.txt  \n",
            "  inflating: /content/drive/My Drive/FileHandler/mainfolder/product_descriptions/NEKFJOWE9FDIW.txt  \n",
            "  inflating: /content/drive/My Drive/FileHandler/mainfolder/product_descriptions/OWEJL398FWJLK.txt  \n",
            "  inflating: /content/drive/My Drive/FileHandler/mainfolder/product_descriptions/XPLFJW2490XJN.txt  \n",
            "   creating: /content/drive/My Drive/FileHandler/mainfolder/product_details/\n",
            "  inflating: /content/drive/My Drive/FileHandler/mainfolder/product_details/AISJDKFJW93NJ.json  \n",
            "  inflating: /content/drive/My Drive/FileHandler/mainfolder/product_details/DJKFIEI432FIE.json  \n",
            "  inflating: /content/drive/My Drive/FileHandler/mainfolder/product_details/GGOENEBJ079499.json  \n",
            "  inflating: /content/drive/My Drive/FileHandler/mainfolder/product_details/HJSKNWK429DJE.json  \n",
            "  inflating: /content/drive/My Drive/FileHandler/mainfolder/product_details/JFKL3940NFKLJ.json  \n",
            "  inflating: /content/drive/My Drive/FileHandler/mainfolder/product_details/LKDFJ49LSDJKL.json  \n",
            "  inflating: /content/drive/My Drive/FileHandler/mainfolder/product_details/MWKDI3JFK39SL.json  \n",
            "  inflating: /content/drive/My Drive/FileHandler/mainfolder/product_details/NEKFJOWE9FDIW.json  \n",
            "  inflating: /content/drive/My Drive/FileHandler/mainfolder/product_details/OWEJL398FWJLK.json  \n",
            "  inflating: /content/drive/My Drive/FileHandler/mainfolder/product_details/XPLFJW2490XJN.json  \n",
            "  inflating: /content/drive/My Drive/FileHandler/mainfolder/sales_data.csv  \n"
          ]
        }
      ],
      "source": [
        "# Use this cell to write your code for unzipping the data and storing it in Google Colab runtime\n",
        "# Note: If you are not using Google Colab, please skip this cell\n",
        "# Note: You can comment out this cell after running it once\n",
        "\n",
        "# Unzip your files and store them in Google Colab runtime\n",
        "# # Unzip your files and store them in the 'FileHandler' directory\n",
        "# !unzip '/content/drive/My Drive/FileHandler/mainfolder.zip' -d '/content/drive/My Drive/FileHandler/'\n"
      ]
    },
    {
      "cell_type": "markdown",
      "metadata": {
        "id": "DiYKN_QJlRBE"
      },
      "source": [
        "Now define the `load_data()` function."
      ]
    },
    {
      "cell_type": "code",
      "execution_count": 8,
      "metadata": {
        "id": "lh8skyqy7Qb6"
      },
      "outputs": [],
      "source": [
        "import os\n",
        "import csv\n",
        "import json\n",
        "from pprint import pprint\n",
        "def load_data(main_folder):\n",
        "    \"\"\"\n",
        "    Load product details, sales data, and product descriptions from files within the specified main_folder directory.\n",
        "\n",
        "    Args:\n",
        "        main_folder (str): The path to the main_folder directory containing the dataset.\n",
        "\n",
        "    Returns:\n",
        "        tuple: A tuple containing three dictionaries:\n",
        "            - product_details (dict): A dictionary of dictionaries where keys are product SKUs (extracted from the filenames of the JSON files)\n",
        "              and values are product details loaded from the JSON files.\n",
        "            - sales_data (dict): A dictionary where keys are product SKUs (from the CSV file) and values are lists\n",
        "              of quantities corresponding to sales data.\n",
        "            - product_descriptions (dict): A dictionary where keys are product SKUs (extracted from the filenames of the TXT files)\n",
        "              and values are product descriptions loaded from TXT files.\n",
        "    \"\"\"\n",
        "    product_details = {}\n",
        "    sales_data = {}\n",
        "    product_descriptions = {}\n",
        "\n",
        "    # Load sales data from the CSV file\n",
        "    sales_data_file = os.path.join(main_folder, 'sales_data.csv')\n",
        "    with open(sales_data_file, 'r') as file:\n",
        "        csv_reader = csv.DictReader(file)\n",
        "        for row in csv_reader:\n",
        "            sku = row['Product_SKU'].upper()  # Convert SKU to uppercase\n",
        "            sales_data[sku] = [int(row[f'Day{i}']) for i in range(1, 15)]\n",
        "\n",
        "    # Load product details from JSON files\n",
        "    details_folder = os.path.join(main_folder, 'product_details')\n",
        "    for file_name in os.listdir(details_folder):\n",
        "        if file_name.endswith('.json'):\n",
        "            sku = os.path.splitext(file_name)[0].upper()  # Convert SKU to uppercase\n",
        "            # with open(os.path.join(details_folder, file_name), 'r') as file:\n",
        "            #     product_details[sku] = json.load(file)\n",
        "            with open(os.path.join(details_folder, file_name), 'r') as file:\n",
        "                try:\n",
        "                    product_details[sku] = json.load(file)\n",
        "                except json.JSONDecodeError:\n",
        "                    print(f\"Error decoding JSON file: {file_name}\")\n",
        "\n",
        "    # Load product descriptions from TXT files\n",
        "    descriptions_folder = os.path.join(main_folder, 'product_descriptions')\n",
        "    for file_name in os.listdir(descriptions_folder):\n",
        "        if file_name.endswith('.txt'):\n",
        "            sku = os.path.splitext(file_name)[0].upper()  # Convert SKU to uppercase\n",
        "            with open(os.path.join(descriptions_folder, file_name), 'r') as file:\n",
        "                product_descriptions[sku] = file.read()\n",
        "\n",
        "    return product_details, sales_data, product_descriptions\n"
      ]
    },
    {
      "cell_type": "markdown",
      "metadata": {
        "id": "bRjwNJj67LP_"
      },
      "source": [
        "Check your code here"
      ]
    },
    {
      "cell_type": "code",
      "execution_count": 9,
      "metadata": {
        "id": "mkeH5Ba17Qmv",
        "colab": {
          "base_uri": "https://localhost:8080/"
        },
        "outputId": "6dd99f49-f7ca-46a4-c006-2cce07fd21a1"
      },
      "outputs": [
        {
          "output_type": "stream",
          "name": "stdout",
          "text": [
            "Defined the load_data() function which takes in the given keyword arguments and returns the given variables.\n",
            "Used the load_data() function to load data in to sales_data, product_details and product_descriptions\n",
            "sales_data, product_details, and product_descriptions are of the type dict.\n",
            "\n",
            "Items in sales_data:\n",
            "SKU: AISJDKFJW93NJ, Sales Data: [10, 12, 15, 18, 20, 22, 25, 28, 26, 30, 32, 29, 27, 24]\n",
            "SKU: DJKFIEI432FIE, Sales Data: [8, 10, 12, 15, 20, 18, 14, 13, 17, 10, 8, 11, 14, 16]\n",
            "SKU: GGOENEBJ079499, Sales Data: [15, 18, 22, 25, 28, 20, 17, 23, 19, 21, 24, 27, 18, 20]\n",
            "SKU: HJSKNWK429DJE, Sales Data: [30, 32, 35, 38, 40, 42, 45, 48, 50, 52, 55, 53, 49, 47]\n",
            "SKU: JFKL3940NFKLJ, Sales Data: [18, 20, 22, 25, 28, 30, 32, 35, 38, 36, 33, 29, 26, 24]\n",
            "SKU: LKDFJ49LSDJKL, Sales Data: [25, 28, 30, 32, 35, 38, 42, 40, 37, 34, 36, 31, 29, 27]\n",
            "SKU: MWKDI3JFK39SL, Sales Data: [30, 35, 40, 45, 50, 42, 37, 38, 41, 36, 33, 39, 40, 44]\n",
            "SKU: NEKFJOWE9FDIW, Sales Data: [12, 15, 18, 20, 22, 24, 21, 23, 25, 28, 30, 27, 26, 29]\n",
            "SKU: OWEJL398FWJLK, Sales Data: [20, 22, 25, 28, 30, 32, 35, 38, 36, 33, 29, 26, 24, 27]\n",
            "SKU: XPLFJW2490XJN, Sales Data: [5, 8, 9, 12, 15, 10, 14, 16, 20, 18, 22, 25, 19, 21]\n",
            "\n",
            "Items in product_details:\n",
            "SKU: AISJDKFJW93NJ, Details: {'product_name': 'Wall Art Print', 'brand': 'ArtCraft', 'model': 'NatureCanvas-1001', 'specifications': 'Canvas print, Ready to hang', 'price': '$49.99', 'availability': 'In stock'}\n",
            "SKU: DJKFIEI432FIE, Details: {'product_name': \"Men's Running Shoes\", 'brand': 'RunFit', 'model': 'SpeedX-500', 'specifications': 'Size 10, Lightweight design, Breathable material', 'price': '$79.99', 'availability': 'In stock'}\n",
            "SKU: GGOENEBJ079499, Details: {'product_name': 'Smartphone', 'brand': 'XYZ Electronics', 'model': 'ABC-2000', 'specifications': '6.5-inch display, 128GB storage, 16MP camera', 'price': '$499.99', 'availability': 'In stock'}\n",
            "SKU: HJSKNWK429DJE, Details: {'product_name': 'Wireless Earbuds', 'brand': 'SoundSync', 'model': 'TunePro-2022', 'specifications': 'Bluetooth 5.0, 20 hours battery life, Touch controls', 'price': '$89.99', 'availability': 'In stock'}\n",
            "SKU: JFKL3940NFKLJ, Details: {'product_name': 'Resistance Bands Set', 'brand': 'FitFlex', 'model': 'StrengthPro-300', 'specifications': '5 bands, Varying resistance levels, Portable', 'price': '$34.99', 'availability': 'In stock'}\n",
            "SKU: LKDFJ49LSDJKL, Details: {'product_name': 'Anti-Aging Face Cream', 'brand': 'GlowBeauty', 'model': 'AgeDefy-300', 'specifications': 'Natural ingredients, Hydrating formula', 'price': '$39.99', 'availability': 'In stock'}\n",
            "SKU: MWKDI3JFK39SL, Details: {'product_name': 'Fictional Novel', 'brand': 'BestBooks', 'model': None, 'specifications': 'Paperback, 300 pages', 'price': '$14.99', 'availability': 'In stock'}\n",
            "SKU: NEKFJOWE9FDIW, Details: {'product_name': 'Board Game', 'brand': 'FamilyFun', 'model': 'GameNight-2022', 'specifications': '2-6 players, Ages 8 and up', 'price': '$29.99', 'availability': 'In stock'}\n",
            "SKU: OWEJL398FWJLK, Details: {'product_name': 'Yoga Mat', 'brand': 'ZenFitness', 'model': 'EcoMat-500', 'specifications': 'Non-slip, 6mm thickness, Eco-friendly material', 'price': '$19.99', 'availability': 'In stock'}\n",
            "SKU: XPLFJW2490XJN, Details: {'product_name': 'Robot Vacuum Cleaner', 'brand': 'CleanTech', 'model': 'AutoSweep-9000', 'specifications': 'Smart navigation, HEPA filter, 90 minutes runtime', 'price': '$249.99', 'availability': 'In stock'}\n",
            "\n",
            "Items in product_descriptions:\n",
            "SKU: AISJDKFJW93NJ, Description: Transform your living space with ArtCraft's NatureCanvas-1001 Wall Art Print.\n",
            "This canvas print, ready to hang, brings the beauty of nature into your home.\n",
            "With dimensions of 16 x 20 inches and a 4.6/5 stars rating, it's a stunning addition to your decor, creating a focal point that captures attention and sparks conversation.\n",
            "SKU: DJKFIEI432FIE, Description: Elevate your running experience with the RunFit SpeedX-500 Men's Running Shoes.\n",
            "Designed for performance, these shoes feature a lightweight design, breathable material, and are available in vibrant Red, Blue, and classic Black.\n",
            "Whether you're a seasoned runner or just starting, these shoes provide comfort and support for every stride, ensuring you reach new milestones effortlessly.\n",
            "SKU: GGOENEBJ079499, Description: Dive into the future with the XYZ Electronics Smartphone, model ABC-2000.\n",
            "Boasting a 6.5-inch display, 128GB storage, and a 16MP camera, this powerful device redefines the smartphone experience.\n",
            "With a sleek design and available in Black, Silver, and Blue, it combines cutting-edge technology with style, ensuring you stay connected in the most sophisticated way possible.\n",
            "SKU: HJSKNWK429DJE, Description: Immerse yourself in superior audio quality with SoundSync's TunePro-2022 Wireless Earbuds.\n",
            "Featuring Bluetooth 5.0, 20 hours of battery life, and touch controls, these earbuds deliver a seamless and immersive listening experience.\n",
            "Available in Black and White, they combine style with functionality for music lovers on the go. \n",
            "With a 4.7/5 stars rating, they stand out as a top choice in the realm of wireless audio.\n",
            "SKU: JFKL3940NFKLJ, Description: Embrace versatility in your workouts with FitFlex's StrengthPro-300 Resistance Bands Set.\n",
            "With 5 bands offering varying resistance levels and portability, this set is your go-to for effective strength training.\n",
            "Available in Red, Yellow, and Blue, it caters to different fitness levels and adds a dynamic dimension to your exercise routine.\n",
            "SKU: LKDFJ49LSDJKL, Description: Rediscover youthful radiance with GlowBeauty's AgeDefy-300 Anti-Aging Face Cream.\n",
            "Formulated with natural ingredients and a hydrating formula, this skincare essential rejuvenates and nourishes your skin, leaving you with a vibrant and refreshed complexion.\n",
            "With a stellar 4.7/5 stars rating, it's a must-have for those embracing the journey to ageless beauty.\n",
            "SKU: MWKDI3JFK39SL, Description: Immerse yourself in the world of storytelling with BestBooks' Fictional Novel.\n",
            "This paperback, spanning 300 pages, promises a captivating journey through the pages of an engaging narrative.\n",
            "Ideal for avid readers seeking an escape, this novel, with a 4.6/5 stars rating, is a testament to its ability to weave a compelling tale that keeps you hooked until the last page.\n",
            "SKU: NEKFJOWE9FDIW, Description: Unleash the fun with FamilyFun's GameNight-2022 Board Game.\n",
            "Designed for 2-6 players and suitable for ages 8 and up, this exciting game promises laughter and bonding moments for the entire family.\n",
            "With a 4.4/5 stars rating, it's a testament to its ability to turn any ordinary night into an extraordinary game night filled with friendly competition and shared joy.\n",
            "SKU: OWEJL398FWJLK, Description: Elevate your yoga practice with ZenFitness' EcoMat-500 Yoga Mat.\n",
            "Featuring a non-slip surface, 6mm thickness, and eco-friendly materials, this high-quality mat provides the perfect foundation for your workouts.\n",
            "Available in Purple, Green, and Blue, it not only enhances your comfort but also adds a touch of serenity to your exercise routine.\n",
            "SKU: XPLFJW2490XJN, Description: Introducing the CleanTech AutoSweep-9000 Robot Vacuum Cleaner – your smart companion for automated cleaning.\n",
            "With smart navigation, a HEPA filter, and a runtime of 90 minutes, this efficient device takes care of your cleaning needs.\n",
            "Available in White and Silver, it blends seamlessly into your home, making cleanliness a hassle-free experience.\n"
          ]
        }
      ],
      "source": [
        "\n",
        "print(\"Defined the load_data() function which takes in the given keyword arguments and returns the given variables.\")\n",
        "print(\"Used the load_data() function to load data in to sales_data, product_details and product_descriptions\")\n",
        "print(\"sales_data, product_details, and product_descriptions are of the type dict.\")\n",
        "\n",
        "main_folder = '/content/drive/My Drive/FileHandler/mainfolder'\n",
        "product_details, sales_data, product_descriptions = load_data(main_folder)\n",
        "\n",
        "print(\"\\nItems in sales_data:\")\n",
        "for sku, data in sales_data.items():\n",
        "    print(f\"SKU: {sku}, Sales Data: {data}\")\n",
        "\n",
        "print(\"\\nItems in product_details:\")\n",
        "for sku, details in product_details.items():\n",
        "    print(f\"SKU: {sku}, Details: {details}\")\n",
        "\n",
        "print(\"\\nItems in product_descriptions:\")\n",
        "for sku, description in product_descriptions.items():\n",
        "    print(f\"SKU: {sku}, Description: {description}\")"
      ]
    },
    {
      "cell_type": "markdown",
      "metadata": {
        "id": "Rf3FIRGg_G2b"
      },
      "source": [
        "### Checklist\n",
        "- Defined the `load_data()` function which takes in the given keyword arguments and returns the given variables.\n",
        "- Used the `load_data()` function to load data in to `sales_data, product_details` and `product_descriptions`\n",
        "- `sales_data, product_details` and `product_descriptions` are of the type `dict`.\n",
        "- Items in `sales_data, product_details`, and `product_descriptions` are as follows:\n",
        "    - `sales_data` contains product SKUs mapped to lists of integers representing the amount of product sold per day.\n",
        "    - `product_details` contains product SKUs mapped to dictionaries containing various details such as product name, brand, model, specifications, price, and availability.\n",
        "    - `product_descriptions` contains product SKUs mapped to strings representing descriptions of the corresponding products."
      ]
    },
    {
      "cell_type": "markdown",
      "metadata": {
        "id": "Q-cAPaYTiz3_"
      },
      "source": [
        "## Task 3 - Explore the data"
      ]
    },
    {
      "cell_type": "markdown",
      "metadata": {
        "id": "Dmz5KGzJFJYC"
      },
      "source": [
        "### Description\n",
        "In this task, you will explore the loaded data by displaying its content. This includes displaying sales data, product details, and product description of a product using its product SKU."
      ]
    },
    {
      "cell_type": "markdown",
      "metadata": {
        "id": "kRKjcU-jHSlp"
      },
      "source": [
        "### Requirements\n",
        "- Dispaly sales data, product details, and product descriptions of all products.\n",
        "- Create a list named `product_skus` which contains product SKUs extracted from one of the dictionaries using `dict.keys()`.\n",
        "- Display sales data, product details, and product description of a product using its product SKU.\n",
        "- Print the length of `sales_data`, `product_details`, and `product_descriptions`."
      ]
    },
    {
      "cell_type": "markdown",
      "metadata": {
        "id": "5Y-xAzqjZLOJ"
      },
      "source": [
        "### Recommendations\n",
        "- Utilize the `pprint` module for pretty printing Python data structures.\n",
        "- Go to [this](https://docs.python.org/3/library/pprint.html) site to read more about `pprint`."
      ]
    },
    {
      "cell_type": "markdown",
      "metadata": {
        "id": "kQULPLA2HePb"
      },
      "source": [
        "First, display data form `sales_data`, `product_details`, and `product_descriptions`."
      ]
    },
    {
      "cell_type": "code",
      "execution_count": 10,
      "metadata": {
        "id": "2C9RhD9Ghtso",
        "colab": {
          "base_uri": "https://localhost:8080/"
        },
        "outputId": "76c5657b-5d88-4f41-ba30-923d9b3ccbde"
      },
      "outputs": [
        {
          "output_type": "stream",
          "name": "stdout",
          "text": [
            "Sales Data:\n",
            "{'AISJDKFJW93NJ': [10, 12, 15, 18, 20, 22, 25, 28, 26, 30, 32, 29, 27, 24],\n",
            " 'DJKFIEI432FIE': [8, 10, 12, 15, 20, 18, 14, 13, 17, 10, 8, 11, 14, 16],\n",
            " 'GGOENEBJ079499': [15, 18, 22, 25, 28, 20, 17, 23, 19, 21, 24, 27, 18, 20],\n",
            " 'HJSKNWK429DJE': [30, 32, 35, 38, 40, 42, 45, 48, 50, 52, 55, 53, 49, 47],\n",
            " 'JFKL3940NFKLJ': [18, 20, 22, 25, 28, 30, 32, 35, 38, 36, 33, 29, 26, 24],\n",
            " 'LKDFJ49LSDJKL': [25, 28, 30, 32, 35, 38, 42, 40, 37, 34, 36, 31, 29, 27],\n",
            " 'MWKDI3JFK39SL': [30, 35, 40, 45, 50, 42, 37, 38, 41, 36, 33, 39, 40, 44],\n",
            " 'NEKFJOWE9FDIW': [12, 15, 18, 20, 22, 24, 21, 23, 25, 28, 30, 27, 26, 29],\n",
            " 'OWEJL398FWJLK': [20, 22, 25, 28, 30, 32, 35, 38, 36, 33, 29, 26, 24, 27],\n",
            " 'XPLFJW2490XJN': [5, 8, 9, 12, 15, 10, 14, 16, 20, 18, 22, 25, 19, 21]}\n"
          ]
        }
      ],
      "source": [
        "#### YOUR CODE HERE ####\n",
        "from pprint import pprint\n",
        "print(\"Sales Data:\")\n",
        "pprint(sales_data)"
      ]
    },
    {
      "cell_type": "code",
      "execution_count": 11,
      "metadata": {
        "id": "lKJ0SoxG1MxQ",
        "colab": {
          "base_uri": "https://localhost:8080/"
        },
        "outputId": "5da68856-bc09-4176-9e99-69cb1552851d"
      },
      "outputs": [
        {
          "output_type": "stream",
          "name": "stdout",
          "text": [
            "\n",
            "Product Details:\n",
            "{'AISJDKFJW93NJ': {'availability': 'In stock',\n",
            "                   'brand': 'ArtCraft',\n",
            "                   'model': 'NatureCanvas-1001',\n",
            "                   'price': '$49.99',\n",
            "                   'product_name': 'Wall Art Print',\n",
            "                   'specifications': 'Canvas print, Ready to hang'},\n",
            " 'DJKFIEI432FIE': {'availability': 'In stock',\n",
            "                   'brand': 'RunFit',\n",
            "                   'model': 'SpeedX-500',\n",
            "                   'price': '$79.99',\n",
            "                   'product_name': \"Men's Running Shoes\",\n",
            "                   'specifications': 'Size 10, Lightweight design, Breathable '\n",
            "                                     'material'},\n",
            " 'GGOENEBJ079499': {'availability': 'In stock',\n",
            "                    'brand': 'XYZ Electronics',\n",
            "                    'model': 'ABC-2000',\n",
            "                    'price': '$499.99',\n",
            "                    'product_name': 'Smartphone',\n",
            "                    'specifications': '6.5-inch display, 128GB storage, 16MP '\n",
            "                                      'camera'},\n",
            " 'HJSKNWK429DJE': {'availability': 'In stock',\n",
            "                   'brand': 'SoundSync',\n",
            "                   'model': 'TunePro-2022',\n",
            "                   'price': '$89.99',\n",
            "                   'product_name': 'Wireless Earbuds',\n",
            "                   'specifications': 'Bluetooth 5.0, 20 hours battery life, '\n",
            "                                     'Touch controls'},\n",
            " 'JFKL3940NFKLJ': {'availability': 'In stock',\n",
            "                   'brand': 'FitFlex',\n",
            "                   'model': 'StrengthPro-300',\n",
            "                   'price': '$34.99',\n",
            "                   'product_name': 'Resistance Bands Set',\n",
            "                   'specifications': '5 bands, Varying resistance levels, '\n",
            "                                     'Portable'},\n",
            " 'LKDFJ49LSDJKL': {'availability': 'In stock',\n",
            "                   'brand': 'GlowBeauty',\n",
            "                   'model': 'AgeDefy-300',\n",
            "                   'price': '$39.99',\n",
            "                   'product_name': 'Anti-Aging Face Cream',\n",
            "                   'specifications': 'Natural ingredients, Hydrating formula'},\n",
            " 'MWKDI3JFK39SL': {'availability': 'In stock',\n",
            "                   'brand': 'BestBooks',\n",
            "                   'model': None,\n",
            "                   'price': '$14.99',\n",
            "                   'product_name': 'Fictional Novel',\n",
            "                   'specifications': 'Paperback, 300 pages'},\n",
            " 'NEKFJOWE9FDIW': {'availability': 'In stock',\n",
            "                   'brand': 'FamilyFun',\n",
            "                   'model': 'GameNight-2022',\n",
            "                   'price': '$29.99',\n",
            "                   'product_name': 'Board Game',\n",
            "                   'specifications': '2-6 players, Ages 8 and up'},\n",
            " 'OWEJL398FWJLK': {'availability': 'In stock',\n",
            "                   'brand': 'ZenFitness',\n",
            "                   'model': 'EcoMat-500',\n",
            "                   'price': '$19.99',\n",
            "                   'product_name': 'Yoga Mat',\n",
            "                   'specifications': 'Non-slip, 6mm thickness, Eco-friendly '\n",
            "                                     'material'},\n",
            " 'XPLFJW2490XJN': {'availability': 'In stock',\n",
            "                   'brand': 'CleanTech',\n",
            "                   'model': 'AutoSweep-9000',\n",
            "                   'price': '$249.99',\n",
            "                   'product_name': 'Robot Vacuum Cleaner',\n",
            "                   'specifications': 'Smart navigation, HEPA filter, 90 '\n",
            "                                     'minutes runtime'}}\n"
          ]
        }
      ],
      "source": [
        "#### YOUR CODE HERE ####\n",
        "print(\"\\nProduct Details:\")\n",
        "pprint(product_details)\n"
      ]
    },
    {
      "cell_type": "code",
      "execution_count": 12,
      "metadata": {
        "id": "0rqYUJOxiAD8",
        "colab": {
          "base_uri": "https://localhost:8080/"
        },
        "outputId": "58c41244-4c8e-49fa-9382-827c8662a5e7"
      },
      "outputs": [
        {
          "output_type": "stream",
          "name": "stdout",
          "text": [
            "\n",
            "Product Descriptions:\n",
            "{'AISJDKFJW93NJ': \"Transform your living space with ArtCraft's \"\n",
            "                  'NatureCanvas-1001 Wall Art Print.\\n'\n",
            "                  'This canvas print, ready to hang, brings the beauty of '\n",
            "                  'nature into your home.\\n'\n",
            "                  'With dimensions of 16 x 20 inches and a 4.6/5 stars rating, '\n",
            "                  \"it's a stunning addition to your decor, creating a focal \"\n",
            "                  'point that captures attention and sparks conversation.',\n",
            " 'DJKFIEI432FIE': 'Elevate your running experience with the RunFit SpeedX-500 '\n",
            "                  \"Men's Running Shoes.\\n\"\n",
            "                  'Designed for performance, these shoes feature a lightweight '\n",
            "                  'design, breathable material, and are available in vibrant '\n",
            "                  'Red, Blue, and classic Black.\\n'\n",
            "                  \"Whether you're a seasoned runner or just starting, these \"\n",
            "                  'shoes provide comfort and support for every stride, '\n",
            "                  'ensuring you reach new milestones effortlessly.',\n",
            " 'GGOENEBJ079499': 'Dive into the future with the XYZ Electronics Smartphone, '\n",
            "                   'model ABC-2000.\\n'\n",
            "                   'Boasting a 6.5-inch display, 128GB storage, and a 16MP '\n",
            "                   'camera, this powerful device redefines the smartphone '\n",
            "                   'experience.\\n'\n",
            "                   'With a sleek design and available in Black, Silver, and '\n",
            "                   'Blue, it combines cutting-edge technology with style, '\n",
            "                   'ensuring you stay connected in the most sophisticated way '\n",
            "                   'possible.',\n",
            " 'HJSKNWK429DJE': \"Immerse yourself in superior audio quality with SoundSync's \"\n",
            "                  'TunePro-2022 Wireless Earbuds.\\n'\n",
            "                  'Featuring Bluetooth 5.0, 20 hours of battery life, and '\n",
            "                  'touch controls, these earbuds deliver a seamless and '\n",
            "                  'immersive listening experience.\\n'\n",
            "                  'Available in Black and White, they combine style with '\n",
            "                  'functionality for music lovers on the go. \\n'\n",
            "                  'With a 4.7/5 stars rating, they stand out as a top choice '\n",
            "                  'in the realm of wireless audio.',\n",
            " 'JFKL3940NFKLJ': \"Embrace versatility in your workouts with FitFlex's \"\n",
            "                  'StrengthPro-300 Resistance Bands Set.\\n'\n",
            "                  'With 5 bands offering varying resistance levels and '\n",
            "                  'portability, this set is your go-to for effective strength '\n",
            "                  'training.\\n'\n",
            "                  'Available in Red, Yellow, and Blue, it caters to different '\n",
            "                  'fitness levels and adds a dynamic dimension to your '\n",
            "                  'exercise routine.',\n",
            " 'LKDFJ49LSDJKL': \"Rediscover youthful radiance with GlowBeauty's AgeDefy-300 \"\n",
            "                  'Anti-Aging Face Cream.\\n'\n",
            "                  'Formulated with natural ingredients and a hydrating '\n",
            "                  'formula, this skincare essential rejuvenates and nourishes '\n",
            "                  'your skin, leaving you with a vibrant and refreshed '\n",
            "                  'complexion.\\n'\n",
            "                  \"With a stellar 4.7/5 stars rating, it's a must-have for \"\n",
            "                  'those embracing the journey to ageless beauty.',\n",
            " 'MWKDI3JFK39SL': 'Immerse yourself in the world of storytelling with '\n",
            "                  \"BestBooks' Fictional Novel.\\n\"\n",
            "                  'This paperback, spanning 300 pages, promises a captivating '\n",
            "                  'journey through the pages of an engaging narrative.\\n'\n",
            "                  'Ideal for avid readers seeking an escape, this novel, with '\n",
            "                  'a 4.6/5 stars rating, is a testament to its ability to '\n",
            "                  'weave a compelling tale that keeps you hooked until the '\n",
            "                  'last page.',\n",
            " 'NEKFJOWE9FDIW': \"Unleash the fun with FamilyFun's GameNight-2022 Board \"\n",
            "                  'Game.\\n'\n",
            "                  'Designed for 2-6 players and suitable for ages 8 and up, '\n",
            "                  'this exciting game promises laughter and bonding moments '\n",
            "                  'for the entire family.\\n'\n",
            "                  \"With a 4.4/5 stars rating, it's a testament to its ability \"\n",
            "                  'to turn any ordinary night into an extraordinary game night '\n",
            "                  'filled with friendly competition and shared joy.',\n",
            " 'OWEJL398FWJLK': \"Elevate your yoga practice with ZenFitness' EcoMat-500 Yoga \"\n",
            "                  'Mat.\\n'\n",
            "                  'Featuring a non-slip surface, 6mm thickness, and '\n",
            "                  'eco-friendly materials, this high-quality mat provides the '\n",
            "                  'perfect foundation for your workouts.\\n'\n",
            "                  'Available in Purple, Green, and Blue, it not only enhances '\n",
            "                  'your comfort but also adds a touch of serenity to your '\n",
            "                  'exercise routine.',\n",
            " 'XPLFJW2490XJN': 'Introducing the CleanTech AutoSweep-9000 Robot Vacuum '\n",
            "                  'Cleaner – your smart companion for automated cleaning.\\n'\n",
            "                  'With smart navigation, a HEPA filter, and a runtime of 90 '\n",
            "                  'minutes, this efficient device takes care of your cleaning '\n",
            "                  'needs.\\n'\n",
            "                  'Available in White and Silver, it blends seamlessly into '\n",
            "                  'your home, making cleanliness a hassle-free experience.'}\n"
          ]
        }
      ],
      "source": [
        "#### YOUR CODE HERE ####\n",
        "print(\"\\nProduct Descriptions:\")\n",
        "pprint(product_descriptions)"
      ]
    },
    {
      "cell_type": "markdown",
      "metadata": {
        "id": "bgy4s7ZcuPBE"
      },
      "source": [
        "Create a list of product SKUs by extracting the product SKUs using `dict.keys()` from one of the three dicionaries, which can then be used to access details of a product."
      ]
    },
    {
      "cell_type": "code",
      "execution_count": 13,
      "metadata": {
        "id": "EGDH9_qQ0ZTq"
      },
      "outputs": [],
      "source": [
        "#### YOUR CODE HERE ####\n",
        "# Create a list of product SKUs\n",
        "product_skus = list(product_details.keys())\n"
      ]
    },
    {
      "cell_type": "markdown",
      "metadata": {
        "id": "8bQQTAa6HDys"
      },
      "source": [
        "Display sales data, product details, and product description of a product using its product SKU."
      ]
    },
    {
      "cell_type": "code",
      "execution_count": 14,
      "metadata": {
        "id": "WDWy4r9J1u86",
        "colab": {
          "base_uri": "https://localhost:8080/"
        },
        "outputId": "b6bc833c-1b76-46af-b4e8-505cfaa328fc"
      },
      "outputs": [
        {
          "output_type": "stream",
          "name": "stdout",
          "text": [
            "\n",
            "Product SKUs: ['AISJDKFJW93NJ', 'DJKFIEI432FIE', 'GGOENEBJ079499', 'HJSKNWK429DJE', 'JFKL3940NFKLJ', 'LKDFJ49LSDJKL', 'MWKDI3JFK39SL', 'NEKFJOWE9FDIW', 'OWEJL398FWJLK', 'XPLFJW2490XJN']\n"
          ]
        }
      ],
      "source": [
        "#### YOUR CODE HERE ####\n",
        "print(\"\\nProduct SKUs:\", product_skus)\n"
      ]
    },
    {
      "cell_type": "code",
      "execution_count": 15,
      "metadata": {
        "id": "5WeEWj7N9F15"
      },
      "outputs": [],
      "source": [
        "#### YOUR CODE HERE ####\n",
        "# Display sales data, product details, and product description of a product using its product SKU\n",
        "sku = \"AISJDKFJW93NJ\"  # Replace with the desired product SKU\n",
        "\n"
      ]
    },
    {
      "cell_type": "code",
      "execution_count": 16,
      "metadata": {
        "id": "8XLqE-5hh2cP",
        "colab": {
          "base_uri": "https://localhost:8080/"
        },
        "outputId": "579e6d4b-fd13-4fb4-ef39-ee5a75cf601d"
      },
      "outputs": [
        {
          "output_type": "stream",
          "name": "stdout",
          "text": [
            "\n",
            "Product SKU: AISJDKFJW93NJ\n"
          ]
        }
      ],
      "source": [
        "#### YOUR CODE HERE ####\n",
        "print(f\"\\nProduct SKU: {sku}\")\n"
      ]
    },
    {
      "cell_type": "code",
      "execution_count": 17,
      "metadata": {
        "id": "FhQVO_gK0n15",
        "colab": {
          "base_uri": "https://localhost:8080/"
        },
        "outputId": "81d3aceb-9ff8-42c7-89e0-29891d1f850b"
      },
      "outputs": [
        {
          "output_type": "stream",
          "name": "stdout",
          "text": [
            "Sales Data: [10, 12, 15, 18, 20, 22, 25, 28, 26, 30, 32, 29, 27, 24]\n"
          ]
        }
      ],
      "source": [
        "#### YOUR CODE HERE ####\n",
        "print(\"Sales Data:\", sales_data.get(sku))\n",
        "\n"
      ]
    },
    {
      "cell_type": "code",
      "execution_count": 18,
      "metadata": {
        "id": "fdSlSXvB9ERL",
        "colab": {
          "base_uri": "https://localhost:8080/"
        },
        "outputId": "f47a39c8-fa44-4d92-d98c-235ac1d12d39"
      },
      "outputs": [
        {
          "output_type": "stream",
          "name": "stdout",
          "text": [
            "Product Details: {'product_name': 'Wall Art Print', 'brand': 'ArtCraft', 'model': 'NatureCanvas-1001', 'specifications': 'Canvas print, Ready to hang', 'price': '$49.99', 'availability': 'In stock'}\n"
          ]
        }
      ],
      "source": [
        "#### YOUR CODE HERE ####\n",
        "print(\"Product Details:\", product_details.get(sku))\n"
      ]
    },
    {
      "cell_type": "code",
      "execution_count": 19,
      "metadata": {
        "id": "DASYKDhk1_oB",
        "colab": {
          "base_uri": "https://localhost:8080/"
        },
        "outputId": "e67daba8-5672-4d8c-c6fb-38496b40e8c2"
      },
      "outputs": [
        {
          "output_type": "stream",
          "name": "stdout",
          "text": [
            "Product Description: Transform your living space with ArtCraft's NatureCanvas-1001 Wall Art Print.\n",
            "This canvas print, ready to hang, brings the beauty of nature into your home.\n",
            "With dimensions of 16 x 20 inches and a 4.6/5 stars rating, it's a stunning addition to your decor, creating a focal point that captures attention and sparks conversation.\n"
          ]
        }
      ],
      "source": [
        "#### YOUR CODE HERE ####\n",
        "print(\"Product Description:\", product_descriptions.get(sku))\n"
      ]
    },
    {
      "cell_type": "markdown",
      "metadata": {
        "id": "M29OiUpcIJyn"
      },
      "source": [
        "Display the length of `sales_data`, `product_details`, and `product_descriptions`."
      ]
    },
    {
      "cell_type": "code",
      "execution_count": 20,
      "metadata": {
        "id": "P_KCw2TtIPjl",
        "colab": {
          "base_uri": "https://localhost:8080/"
        },
        "outputId": "f35f953e-d5f4-4abf-c39d-309562dcbb4b"
      },
      "outputs": [
        {
          "output_type": "stream",
          "name": "stdout",
          "text": [
            "\n",
            "Length of sales_data: 10\n"
          ]
        }
      ],
      "source": [
        "#### YOUR CODE HERE ####\n",
        "print(\"\\nLength of sales_data:\", len(sales_data))"
      ]
    },
    {
      "cell_type": "code",
      "execution_count": 21,
      "metadata": {
        "id": "WD6nkFf5IcP1",
        "colab": {
          "base_uri": "https://localhost:8080/"
        },
        "outputId": "3fad0894-09c9-44e9-9900-5c1cc3018102"
      },
      "outputs": [
        {
          "output_type": "stream",
          "name": "stdout",
          "text": [
            "Length of product_details: 10\n"
          ]
        }
      ],
      "source": [
        "#### YOUR CODE HERE ####\n",
        "print(\"Length of product_details:\", len(product_details))"
      ]
    },
    {
      "cell_type": "code",
      "execution_count": 22,
      "metadata": {
        "id": "9a0YVr6gIZsk",
        "colab": {
          "base_uri": "https://localhost:8080/"
        },
        "outputId": "8819b371-fc1e-459d-d22a-233c563624a8"
      },
      "outputs": [
        {
          "output_type": "stream",
          "name": "stdout",
          "text": [
            "Length of product_descriptions: 10\n"
          ]
        }
      ],
      "source": [
        "#### YOUR CODE HERE ####\n",
        "print(\"Length of product_descriptions:\", len(product_descriptions))"
      ]
    },
    {
      "cell_type": "markdown",
      "metadata": {
        "id": "mU6IzrzYZ_b4"
      },
      "source": [
        "### Checklist\n",
        "- Displayed sales data, product details, and product descriptions of all the products\n",
        "- The extracted product SKUs are *AISJDKFJW93NJ, DJKFIEI432FIE, GGOENEBJ079499, HJSKNWK429DJE JFKL3940NFKLJ, LKDFJ49LSDJKL,MWKDI3JFK39SL, NEKFJOWE9FDIW,OWEJL398FWJLK, and XPLFJW2490XJN*.\n",
        "- Displayed sales data, product details, and product description of a product using its product SKU\n",
        "- Length of `sales_data`, `product_details`, and `product_descriptions` is 10."
      ]
    },
    {
      "cell_type": "markdown",
      "metadata": {
        "id": "-s3el3T2A41B"
      },
      "source": [
        "# Stage 2 - Create\n",
        "\n",
        "In the this stage, you will define a function `create()` to add sales data, product details, and product descriptions for a new product. You will also define some sub-functions to complete smaller tasks.\n",
        "\n",
        "You will achieve this by completing the following tasks:\n",
        "\n",
        "- Task 4 - Add sales data\n",
        "- Task 5 - Add product details\n",
        "- Task 6 - Add product description\n",
        "- Task 7 - Create function\n"
      ]
    },
    {
      "cell_type": "markdown",
      "metadata": {
        "id": "KR9w5MtF2iuy"
      },
      "source": [
        "## Task 4 - Add sales data"
      ]
    },
    {
      "cell_type": "markdown",
      "metadata": {
        "id": "3sv3srpNP0by"
      },
      "source": [
        "### Description\n",
        "In this task, you will write a function to add sales data for a new product give then SKU and the quantities that need to be added.\n"
      ]
    },
    {
      "cell_type": "markdown",
      "metadata": {
        "id": "yuS0kGCbP93D"
      },
      "source": [
        "### Requirements\n",
        "- Define a function named `add_sales_data()` that:\n",
        "  - adds new sales data to the `sales_data` dicitionary using the sku as the key.\n",
        "  - The function should accept the following parameters:\n",
        "    - `sales_data` dictionary\n",
        "    - `sku` value\n",
        "    - list called `quantities` consisting of sales data for the new product\n",
        "- The function should return:\n",
        "    - The updated `sales_data` dictionary after creating the entry for the new SKU."
      ]
    },
    {
      "cell_type": "markdown",
      "metadata": {
        "id": "51b-kmL5P9ve"
      },
      "source": [
        "### Recommendations\n",
        "- Provide the data description and requirements to ChatGPT along with the libraries that you are using and ask it to generate code for the function.\n",
        "- If you get stuck somewhere, you can ask ChatGPT to explain the code to you and you can make edits as required."
      ]
    },
    {
      "cell_type": "code",
      "execution_count": 9,
      "metadata": {
        "id": "RdPeCXd22MJ5"
      },
      "outputs": [],
      "source": [
        "def add_sales_data(sku, quantities, main_folder):\n",
        "    \"\"\"\n",
        "    Add sales data for a new product SKU and save it to a CSV file.\n",
        "\n",
        "    Parameters:\n",
        "        sku (str): The product SKU.\n",
        "        quantities (list of int): List of quantities sold for each of the past 14 days.\n",
        "        main_folder (str): The path to the main_folder directory containing the dataset.\n",
        "\n",
        "    Returns:\n",
        "        dict: The updated sales data after adding the entry for the new SKU.\n",
        "    \"\"\"\n",
        "    # Convert SKU to uppercase\n",
        "    sku = sku.upper()\n",
        "\n",
        "    # Load data if not already loaded\n",
        "    product_details, sales_data, product_descriptions = load_data(main_folder)\n",
        "\n",
        "    if sku in sales_data:\n",
        "        sales_data[sku].extend(quantities)\n",
        "    else:\n",
        "        sales_data[sku] = quantities\n",
        "\n",
        "    # # Save updated sales data to CSV file\n",
        "    # sales_data_file = os.path.join(main_folder, 'sales_data.csv')\n",
        "    # with open(sales_data_file, 'w', newline='') as file:\n",
        "    #     writer = csv.writer(file)\n",
        "    #     # Write header\n",
        "    #     writer.writerow(['Product_SKU'] + [f'Day{i}' for i in range(1, 15)])\n",
        "    #     # Write data\n",
        "    #     for sku, quantities in sales_data.items():\n",
        "    #         writer.writerow([sku] + quantities)\n",
        "\n",
        "    return sales_data"
      ]
    },
    {
      "cell_type": "markdown",
      "metadata": {
        "id": "vOvcL_J5Cn51"
      },
      "source": [
        "Check your code here."
      ]
    },
    {
      "cell_type": "code",
      "execution_count": 25,
      "metadata": {
        "id": "Uzf-TuD5CqEm",
        "colab": {
          "base_uri": "https://localhost:8080/"
        },
        "outputId": "2470ce79-6c4a-420e-9c4a-4207b6b9bfbe"
      },
      "outputs": [
        {
          "output_type": "stream",
          "name": "stdout",
          "text": [
            "{'AISJDKFJW93NJ': [10, 12, 15, 18, 20, 22, 25, 28, 26, 30, 32, 29, 27, 24],\n",
            " 'DJKFIEI432FIE': [8, 10, 12, 15, 20, 18, 14, 13, 17, 10, 8, 11, 14, 16],\n",
            " 'GGOENEBJ079499': [15, 18, 22, 25, 28, 20, 17, 23, 19, 21, 24, 27, 18, 20],\n",
            " 'HJSKNWK429DJE': [30, 32, 35, 38, 40, 42, 45, 48, 50, 52, 55, 53, 49, 47],\n",
            " 'JFKL3940NFKLJ': [18, 20, 22, 25, 28, 30, 32, 35, 38, 36, 33, 29, 26, 24],\n",
            " 'LKDFJ49LSDJKL': [25, 28, 30, 32, 35, 38, 42, 40, 37, 34, 36, 31, 29, 27],\n",
            " 'MWKDI3JFK39SL': [30, 35, 40, 45, 50, 42, 37, 38, 41, 36, 33, 39, 40, 44],\n",
            " 'NEKFJOWE9FDIW': [12, 15, 18, 20, 22, 24, 21, 23, 25, 28, 30, 27, 26, 29],\n",
            " 'NEWSKU1234567': [10, 15, 20, 25, 30, 35, 40, 45, 50, 55, 60, 65, 70, 76],\n",
            " 'OWEJL398FWJLK': [20, 22, 25, 28, 30, 32, 35, 38, 36, 33, 29, 26, 24, 27],\n",
            " 'XPLFJW2490XJN': [5, 8, 9, 12, 15, 10, 14, 16, 20, 18, 22, 25, 19, 21]}\n"
          ]
        }
      ],
      "source": [
        "\n",
        "main_folder = '/content/drive/My Drive/FileHandler/mainfolder'\n",
        "sku = 'NeWSKU1234567'\n",
        "quantities = [10,15,20,25,30,35,40,45,50,55,60,65,70,76]\n",
        "sales_data = add_sales_data(sku, quantities, main_folder)\n",
        "pprint(sales_data)\n",
        "\n",
        "\n"
      ]
    },
    {
      "cell_type": "markdown",
      "metadata": {
        "id": "iJ1PeYvAP9nI"
      },
      "source": [
        "### Checklist\n",
        "- Function `add_sales_data()` defined\n",
        "- Updated `sales_data` dictionary with new product SKU and data\n",
        "- Updated `sales_data` dictionary returned"
      ]
    },
    {
      "cell_type": "markdown",
      "metadata": {
        "id": "276dzYC32PIS"
      },
      "source": [
        "## Task 5 - Add product details"
      ]
    },
    {
      "cell_type": "markdown",
      "metadata": {
        "id": "-I8sKosLT5sl"
      },
      "source": [
        "### Description\n",
        "In this task, you will write a function to add product details for the new product using its product SKU."
      ]
    },
    {
      "cell_type": "markdown",
      "metadata": {
        "id": "OkfZCY48T5ss"
      },
      "source": [
        "### Requirements\n",
        "- Define a function named `add_product_details()` that adds new product details to the `product_details` dictionary using the SKU as the key.\n",
        "- The function should accept three parameters:\n",
        "  - `product_details`: A dictionary containing existing product details.\n",
        "  - `sku`: A string representing the product SKU.\n",
        "  - `product_info`: A dictionary containing the details of the product, such as product name, brand, model, specifications, price, and availability.\n",
        "- The function adds the `product_info` dictionary to the `product_details` dictionary with the provided sku as the key. This operation updates the `product_details` dictionary with the new products information.\n",
        "- Return the updated `product_details` dictionary containing the new product entry.\n"
      ]
    },
    {
      "cell_type": "markdown",
      "metadata": {
        "id": "7gCVU2F2T5ss"
      },
      "source": [
        "### Recommendations\n",
        "- Provide the data description and requirements to ChatGPT along with the libraries that you are using and ask it to generate code for the function.\n",
        "- If you get stuck somewhere, you can ask ChatGPT to explain the code to you and you can make edits as required."
      ]
    },
    {
      "cell_type": "code",
      "execution_count": 10,
      "metadata": {
        "id": "uiOO_eNr2PkA"
      },
      "outputs": [],
      "source": [
        "import os\n",
        "import json\n",
        "\n",
        "def add_product_details(product_details, sku, product_info, main_folder):\n",
        "    \"\"\"\n",
        "    Add new product details for a product SKU and save to a file.\n",
        "\n",
        "    Args:\n",
        "        product_details (dict): The dictionary containing existing product details.\n",
        "        sku (str): The SKU of the product.\n",
        "        product_info (dict): A dictionary containing the details of the product.\n",
        "        main_folder (str): The path to the main_folder directory containing the dataset.\n",
        "\n",
        "    Returns:\n",
        "        dict: The updated product_details dictionary.\n",
        "    \"\"\"\n",
        "    # Convert SKU to uppercase\n",
        "    sku = sku.upper()\n",
        "\n",
        "    if sku not in product_details:\n",
        "        product_details[sku] = product_info\n",
        "\n",
        "    # # Save to file\n",
        "    # details_folder = os.path.join(main_folder, 'product_details')\n",
        "    # file_path = os.path.join(details_folder, f\"{sku}.json\")\n",
        "    # with open(file_path, 'w') as file:\n",
        "    #     json.dump(product_info, file)\n",
        "\n",
        "    return product_details\n",
        "\n"
      ]
    },
    {
      "cell_type": "markdown",
      "metadata": {
        "id": "cpYk9yK1Cq5H"
      },
      "source": [
        "Check your code here."
      ]
    },
    {
      "cell_type": "code",
      "execution_count": 27,
      "metadata": {
        "id": "6ljskEWSCrQq",
        "colab": {
          "base_uri": "https://localhost:8080/"
        },
        "outputId": "0622db41-383e-43fc-d0e6-b14298bce900"
      },
      "outputs": [
        {
          "output_type": "stream",
          "name": "stdout",
          "text": [
            "Updated product details:\n",
            "SKU: AISJDKFJW93NJ\n",
            "product_name: Wall Art Print\n",
            "brand: ArtCraft\n",
            "model: NatureCanvas-1001\n",
            "specifications: Canvas print, Ready to hang\n",
            "price: $49.99\n",
            "availability: In stock\n",
            "\n",
            "SKU: DJKFIEI432FIE\n",
            "product_name: Men's Running Shoes\n",
            "brand: RunFit\n",
            "model: SpeedX-500\n",
            "specifications: Size 10, Lightweight design, Breathable material\n",
            "price: $79.99\n",
            "availability: In stock\n",
            "\n",
            "SKU: GGOENEBJ079499\n",
            "product_name: Smartphone\n",
            "brand: XYZ Electronics\n",
            "model: ABC-2000\n",
            "specifications: 6.5-inch display, 128GB storage, 16MP camera\n",
            "price: $499.99\n",
            "availability: In stock\n",
            "\n",
            "SKU: HJSKNWK429DJE\n",
            "product_name: Wireless Earbuds\n",
            "brand: SoundSync\n",
            "model: TunePro-2022\n",
            "specifications: Bluetooth 5.0, 20 hours battery life, Touch controls\n",
            "price: $89.99\n",
            "availability: In stock\n",
            "\n",
            "SKU: JFKL3940NFKLJ\n",
            "product_name: Resistance Bands Set\n",
            "brand: FitFlex\n",
            "model: StrengthPro-300\n",
            "specifications: 5 bands, Varying resistance levels, Portable\n",
            "price: $34.99\n",
            "availability: In stock\n",
            "\n",
            "SKU: LKDFJ49LSDJKL\n",
            "product_name: Anti-Aging Face Cream\n",
            "brand: GlowBeauty\n",
            "model: AgeDefy-300\n",
            "specifications: Natural ingredients, Hydrating formula\n",
            "price: $39.99\n",
            "availability: In stock\n",
            "\n",
            "SKU: MWKDI3JFK39SL\n",
            "product_name: Fictional Novel\n",
            "brand: BestBooks\n",
            "model: None\n",
            "specifications: Paperback, 300 pages\n",
            "price: $14.99\n",
            "availability: In stock\n",
            "\n",
            "SKU: NEKFJOWE9FDIW\n",
            "product_name: Board Game\n",
            "brand: FamilyFun\n",
            "model: GameNight-2022\n",
            "specifications: 2-6 players, Ages 8 and up\n",
            "price: $29.99\n",
            "availability: In stock\n",
            "\n",
            "SKU: OWEJL398FWJLK\n",
            "product_name: Yoga Mat\n",
            "brand: ZenFitness\n",
            "model: EcoMat-500\n",
            "specifications: Non-slip, 6mm thickness, Eco-friendly material\n",
            "price: $19.99\n",
            "availability: In stock\n",
            "\n",
            "SKU: XPLFJW2490XJN\n",
            "product_name: Robot Vacuum Cleaner\n",
            "brand: CleanTech\n",
            "model: AutoSweep-9000\n",
            "specifications: Smart navigation, HEPA filter, 90 minutes runtime\n",
            "price: $249.99\n",
            "availability: In stock\n",
            "\n",
            "SKU: NEWSKU1234567\n",
            "product_name: Product Test\n",
            "brand: Brand Test\n",
            "model: Model Test\n",
            "specifications: Specs Test\n",
            "price: $200\n",
            "availability: In stock\n",
            "\n"
          ]
        }
      ],
      "source": [
        "# Example usage\n",
        "new_sku = \"NeWSKU1234567\"\n",
        "new_details = {\n",
        "    \"product_name\": \"Product Test\",\n",
        "    \"brand\": \"Brand Test\",\n",
        "    \"model\": \"Model Test\",\n",
        "    \"specifications\": \"Specs Test\",\n",
        "    \"price\": \"$200\",\n",
        "    \"availability\": \"In stock\"\n",
        "}\n",
        "\n",
        "# Call the add_product_details function\n",
        "existing_product_details, _, _ = load_data(main_folder)\n",
        "updated_product_details = add_product_details(existing_product_details, new_sku, new_details, main_folder)\n",
        "\n",
        "# Print the updated product_details dictionary with the newly added details\n",
        "print(\"Updated product details:\")\n",
        "for sku, details in updated_product_details.items():\n",
        "    print(f\"SKU: {sku}\")\n",
        "    for key, value in details.items():\n",
        "        print(f\"{key}: {value}\")\n",
        "    print()\n",
        "\n"
      ]
    },
    {
      "cell_type": "markdown",
      "metadata": {
        "id": "UK1tyUi4UDwK"
      },
      "source": [
        "### Checklist\n",
        "- Function `add_product_details()` defined\n",
        "- Updated `product_details` dictionary with new product details\n",
        "- Updated `product_details` dictionary returned"
      ]
    },
    {
      "cell_type": "markdown",
      "metadata": {
        "id": "NbsIu0TT2R4H"
      },
      "source": [
        "## Task 6 - Add product description"
      ]
    },
    {
      "cell_type": "markdown",
      "metadata": {
        "id": "eLsJVtWtT6Wn"
      },
      "source": [
        "### Description\n",
        "In this task, you will write a function to add a product description for the new product using its product SKU."
      ]
    },
    {
      "cell_type": "markdown",
      "metadata": {
        "id": "ZYE0bb3bT6Wn"
      },
      "source": [
        "### Requirements\n",
        "- Define a function named `add_product_description()` that adds a new product description to the `product_descriptions` dictionary using the SKU as the key.\n",
        "- The function should accept three parameters:\n",
        "  - `product_descriptions`: A dictionary containing existing product descriptions.\n",
        "  - `sku`: A string representing the product SKU.\n",
        "  - `description`: A string containing the description of the product.\n",
        "- The function adds the new product description to the `product_descriptions` dictionary with the provided sku as the key. This operation updates the `product_descriptions` dictionary with the new product's description.\n",
        "- Return the updated `product_descriptions` dictionary containing the new product description.\n"
      ]
    },
    {
      "cell_type": "markdown",
      "metadata": {
        "id": "92BcXxmhT6Wn"
      },
      "source": [
        "### Recommendations\n",
        "- Provide the data description and requirements to ChatGPT along with the libraries that you are using and ask it to generate code for the function.\n",
        "- If you get stuck somewhere, you can ask ChatGPT to explain the code to you and you can make edits as required."
      ]
    },
    {
      "cell_type": "code",
      "execution_count": 11,
      "metadata": {
        "id": "gto9F0P82SIv"
      },
      "outputs": [],
      "source": [
        "def add_product_description(product_descriptions, sku, description, main_folder):\n",
        "    \"\"\"\n",
        "    Add a new product description for a product SKU and save to a file.\n",
        "\n",
        "    Args:\n",
        "        product_descriptions (dict): The dictionary containing existing product descriptions.\n",
        "        sku (str): The SKU of the product.\n",
        "        description (str): The description of the product.\n",
        "        main_folder (str): The path to the main_folder directory containing the dataset.\n",
        "\n",
        "    Returns:\n",
        "        dict: The updated product_descriptions dictionary.\n",
        "    \"\"\"\n",
        "    # Convert SKU to uppercase\n",
        "    sku = sku.upper()\n",
        "\n",
        "    if sku not in product_descriptions:\n",
        "        product_descriptions[sku] = description\n",
        "\n",
        "    # # Save to file\n",
        "    # descriptions_folder = os.path.join(main_folder, 'product_descriptions')\n",
        "    # file_path = os.path.join(descriptions_folder, f\"{sku}.txt\")\n",
        "    # with open(file_path, 'w') as file:\n",
        "    #     file.write(description)\n",
        "\n",
        "    return product_descriptions"
      ]
    },
    {
      "cell_type": "markdown",
      "metadata": {
        "id": "pDn1TCSLCr_R"
      },
      "source": [
        "Check your code here."
      ]
    },
    {
      "cell_type": "code",
      "execution_count": 29,
      "metadata": {
        "id": "4rm960DECsUF",
        "colab": {
          "base_uri": "https://localhost:8080/"
        },
        "outputId": "0b4aa4aa-f1ea-4512-c124-a0a5f0ceef72"
      },
      "outputs": [
        {
          "output_type": "stream",
          "name": "stdout",
          "text": [
            "SKU: AISJDKFJW93NJ\n",
            "Description: Transform your living space with ArtCraft's NatureCanvas-1001 Wall Art Print.\n",
            "This canvas print, ready to hang, brings the beauty of nature into your home.\n",
            "With dimensions of 16 x 20 inches and a 4.6/5 stars rating, it's a stunning addition to your decor, creating a focal point that captures attention and sparks conversation.\n",
            "\n",
            "SKU: DJKFIEI432FIE\n",
            "Description: Elevate your running experience with the RunFit SpeedX-500 Men's Running Shoes.\n",
            "Designed for performance, these shoes feature a lightweight design, breathable material, and are available in vibrant Red, Blue, and classic Black.\n",
            "Whether you're a seasoned runner or just starting, these shoes provide comfort and support for every stride, ensuring you reach new milestones effortlessly.\n",
            "\n",
            "SKU: GGOENEBJ079499\n",
            "Description: Dive into the future with the XYZ Electronics Smartphone, model ABC-2000.\n",
            "Boasting a 6.5-inch display, 128GB storage, and a 16MP camera, this powerful device redefines the smartphone experience.\n",
            "With a sleek design and available in Black, Silver, and Blue, it combines cutting-edge technology with style, ensuring you stay connected in the most sophisticated way possible.\n",
            "\n",
            "SKU: HJSKNWK429DJE\n",
            "Description: Immerse yourself in superior audio quality with SoundSync's TunePro-2022 Wireless Earbuds.\n",
            "Featuring Bluetooth 5.0, 20 hours of battery life, and touch controls, these earbuds deliver a seamless and immersive listening experience.\n",
            "Available in Black and White, they combine style with functionality for music lovers on the go. \n",
            "With a 4.7/5 stars rating, they stand out as a top choice in the realm of wireless audio.\n",
            "\n",
            "SKU: JFKL3940NFKLJ\n",
            "Description: Embrace versatility in your workouts with FitFlex's StrengthPro-300 Resistance Bands Set.\n",
            "With 5 bands offering varying resistance levels and portability, this set is your go-to for effective strength training.\n",
            "Available in Red, Yellow, and Blue, it caters to different fitness levels and adds a dynamic dimension to your exercise routine.\n",
            "\n",
            "SKU: LKDFJ49LSDJKL\n",
            "Description: Rediscover youthful radiance with GlowBeauty's AgeDefy-300 Anti-Aging Face Cream.\n",
            "Formulated with natural ingredients and a hydrating formula, this skincare essential rejuvenates and nourishes your skin, leaving you with a vibrant and refreshed complexion.\n",
            "With a stellar 4.7/5 stars rating, it's a must-have for those embracing the journey to ageless beauty.\n",
            "\n",
            "SKU: MWKDI3JFK39SL\n",
            "Description: Immerse yourself in the world of storytelling with BestBooks' Fictional Novel.\n",
            "This paperback, spanning 300 pages, promises a captivating journey through the pages of an engaging narrative.\n",
            "Ideal for avid readers seeking an escape, this novel, with a 4.6/5 stars rating, is a testament to its ability to weave a compelling tale that keeps you hooked until the last page.\n",
            "\n",
            "SKU: NEKFJOWE9FDIW\n",
            "Description: Unleash the fun with FamilyFun's GameNight-2022 Board Game.\n",
            "Designed for 2-6 players and suitable for ages 8 and up, this exciting game promises laughter and bonding moments for the entire family.\n",
            "With a 4.4/5 stars rating, it's a testament to its ability to turn any ordinary night into an extraordinary game night filled with friendly competition and shared joy.\n",
            "\n",
            "SKU: OWEJL398FWJLK\n",
            "Description: Elevate your yoga practice with ZenFitness' EcoMat-500 Yoga Mat.\n",
            "Featuring a non-slip surface, 6mm thickness, and eco-friendly materials, this high-quality mat provides the perfect foundation for your workouts.\n",
            "Available in Purple, Green, and Blue, it not only enhances your comfort but also adds a touch of serenity to your exercise routine.\n",
            "\n",
            "SKU: XPLFJW2490XJN\n",
            "Description: Introducing the CleanTech AutoSweep-9000 Robot Vacuum Cleaner – your smart companion for automated cleaning.\n",
            "With smart navigation, a HEPA filter, and a runtime of 90 minutes, this efficient device takes care of your cleaning needs.\n",
            "Available in White and Silver, it blends seamlessly into your home, making cleanliness a hassle-free experience.\n",
            "\n",
            "SKU: NEWSKU1234567\n",
            "Description: TEST Description for new sku \n",
            "\n"
          ]
        }
      ],
      "source": [
        "# Example usage\n",
        "main_folder = '/content/drive/My Drive/FileHandler/mainfolder'\n",
        "product_details, sales_data, existing_product_descriptions = load_data(main_folder)\n",
        "\n",
        "# New product description\n",
        "new_sku = 'NeWSKU1234567'\n",
        "new_description = \"TEST Description for new sku \"\n",
        "\n",
        "# Add the new product description\n",
        "updated_product_descriptions = add_product_description(existing_product_descriptions, new_sku, new_description, main_folder)\n",
        "\n",
        "# Print the updated product_descriptions dictionary\n",
        "for sku, description in updated_product_descriptions.items():\n",
        "    print(f\"SKU: {sku}\\nDescription: {description}\\n\")\n",
        "# # Example usage\n",
        "# main_folder = '/content/drive/My Drive/FileHandler/mainfolder'\n",
        "# product_details, sales_data, existing_product_descriptions = load_data(main_folder)\n",
        "\n",
        "# # New product description\n",
        "# new_sku = 'OWEJL398FWJLK'\n",
        "# new_description = \"{'product_name': 'Yoga Mat', 'brand': 'ZenFitness', 'model': 'EcoMat-500', 'specifications': 'Non-slip, 6mm thickness, Eco-friendly material', 'price': '$19.99', 'availability': 'In stock'}\"\n",
        "\n",
        "# # Add the new product description\n",
        "# updated_product_descriptions = add_product_description(existing_product_descriptions, new_sku, new_description)\n",
        "\n",
        "# # Print the updated product_descriptions dictionary\n",
        "# for sku, description in updated_product_descriptions.items():\n",
        "#     print(f\"SKU: {sku}\\nDescription: {description}\\n\")\n"
      ]
    },
    {
      "cell_type": "markdown",
      "metadata": {
        "id": "HxVoqK32UEpS"
      },
      "source": [
        "### Checklist\n",
        "- Function `add_product_description()` defined\n",
        "- `product_descriptions` dictionary updated with new description\n",
        "- Updated `product_descriptions` dictionary returned"
      ]
    },
    {
      "cell_type": "markdown",
      "metadata": {
        "id": "R5N6bVo82VF3"
      },
      "source": [
        "## Task 7 - Create function"
      ]
    },
    {
      "cell_type": "markdown",
      "metadata": {
        "id": "a8ACLR0kT65r"
      },
      "source": [
        "### Description\n",
        "In this task, you will write a function that combines the functionalities of adding sales data, product details, and product description for a new product SKU."
      ]
    },
    {
      "cell_type": "markdown",
      "metadata": {
        "id": "GLPOHSC5T65r"
      },
      "source": [
        "### Requirements\n",
        "- Define a function named `create()` that collects comprehensive information about a new product from the user, validates the input, and updates the respective dictionaries with product details, sales data, and product descriptions.\n",
        "- The function should accept three parameters:\n",
        "  - `product_details`: A dictionary containing existing product details. Each entry maps an SKU to its corresponding product details.\n",
        "  - `sales_data`: A dictionary containing sales data. Each entry maps an SKU to a list of sales quantities for the last 14 days.\n",
        "  - `product_descriptions`: A dictionary containing product descriptions. Each entry maps an SKU to its corresponding textual description.\n",
        "- The function performs several operations:\n",
        "  - Prompts the user to input the SKU, which must be exactly 13 characters long. If the SKU does not meet this requirement, print an error message and terminate the function without updating any dictionaries.\n",
        "  - Prompts the user to enter sales data for the last 14 days, which must consist of exactly 14 integers. If the input does not meet this criterion, print an error message and terminate the function without updating any dictionaries.\n",
        "  - Collects product details from the user, including name, brand, model, specifications, price, and availability. These inputs are required but not subject to specific validation criteria for this function.\n",
        "  - Prompts the user for a product description, which is also required for successful product registration.\n",
        "- If all inputs are validated successfully, the function updates the `product_details`, `sales_data`, and `product_descriptions` dictionaries with the new product information and prints a success message.\n",
        "- Returns a tuple containing the updated `product_details`, `sales_data`, and `product_descriptions` dictionaries in that order.\n",
        "- The function is designed for use when a new product is to be added to the system and requires the caller to pass the current state of the `product_details`, `sales_data`, and `product_descriptions` dictionaries. It returns their updated states, reflecting the addition of the new product.\n"
      ]
    },
    {
      "cell_type": "markdown",
      "metadata": {
        "id": "DdqcaLI1T65s"
      },
      "source": [
        "### Recommendations\n",
        "- You can use if-else statements to check the validity of the data inputted by the user.\n",
        "- Use a list comprehension to prepare the sales data before saving it in the dictionary.\n",
        "- Use the previously defined functions to perform the actions after validating user's input.\n",
        "- Provide the data description and requirements to ChatGPT along with the libraries that you are using and ask it to generate code for the function.\n",
        "- If you get stuck somewhere, you can ask ChatGPT to explain the code to you and you can make edits as required."
      ]
    },
    {
      "cell_type": "code",
      "execution_count": 12,
      "metadata": {
        "id": "-nqyMs8IPhnR"
      },
      "outputs": [],
      "source": [
        "def create(product_details, sales_data, product_descriptions, main_folder):\n",
        "    \"\"\"\n",
        "    Collect comprehensive information about a new product from the user,\n",
        "    validates the input, and updates the respective dictionaries with\n",
        "    product details, sales data, and product descriptions.\n",
        "\n",
        "    Args:\n",
        "        product_details (dict): A dictionary containing existing product details.\n",
        "        sales_data (dict): A dictionary containing sales data.\n",
        "        product_descriptions (dict): A dictionary containing product descriptions.\n",
        "        main_folder (str): The path to the main_folder directory containing the dataset.\n",
        "\n",
        "    Returns:\n",
        "        tuple: A tuple containing the updated product_details, sales_data, and product_descriptions dictionaries.\n",
        "    \"\"\"\n",
        "    # Prompt the user to input the SKU\n",
        "    sku = input(\"Enter the SKU (must be 13 characters long): \")\n",
        "    sku = sku.upper()\n",
        "    if len(sku) != 13:\n",
        "        print(\"Error: SKU must be exactly 13 characters long.\")\n",
        "        return product_details, sales_data, product_descriptions\n",
        "\n",
        "    # Prompt the user to enter sales data for the last 14 days\n",
        "    sales_input = input(\"Enter sales data for the last 14 days (separated by commas): \")\n",
        "    sales_data_list = sales_input.split(',')\n",
        "    if len(sales_data_list) != 14 or not all(s.isdigit() for s in sales_data_list):\n",
        "        print(\"Error: Sales data must consist of exactly 14 integers.\")\n",
        "        return product_details, sales_data, product_descriptions\n",
        "    quantities = [int(s) for s in sales_data_list]\n",
        "\n",
        "    # Collect product details from the user\n",
        "    product_info = {}\n",
        "    product_info['product_name'] = input(\"Enter product name: \")\n",
        "    product_info['brand'] = input(\"Enter brand: \")\n",
        "    product_info['model'] = input(\"Enter model: \")\n",
        "    product_info['specifications'] = input(\"Enter specifications: \")\n",
        "    product_info['price'] = input(\"Enter price: \")\n",
        "    product_info['availability'] = input(\"Enter availability: \")\n",
        "\n",
        "    # Prompt the user for a product description\n",
        "    description = input(\"Enter product description: \")\n",
        "\n",
        "    # Update dictionaries with new product information\n",
        "    sales_data = add_sales_data(sku, quantities, main_folder)\n",
        "    product_details = add_product_details(product_details, sku, product_info, main_folder)\n",
        "    product_descriptions = add_product_description(product_descriptions, sku, description, main_folder)\n",
        "\n",
        "    print(\"Product added successfully.\")\n",
        "    return product_details, sales_data, product_descriptions\n"
      ]
    },
    {
      "cell_type": "markdown",
      "metadata": {
        "id": "LEyahKVZCtpR"
      },
      "source": [
        "Check your code here."
      ]
    },
    {
      "cell_type": "code",
      "execution_count": 33,
      "metadata": {
        "id": "IxJZUWfX9Rgs",
        "colab": {
          "base_uri": "https://localhost:8080/"
        },
        "outputId": "8f1f356d-6acb-4b5d-d4e5-329c5c622cac"
      },
      "outputs": [
        {
          "output_type": "stream",
          "name": "stdout",
          "text": [
            "Enter the SKU (must be 13 characters long): NEWSKU1234568\n",
            "Enter sales data for the last 14 days (separated by commas): 11,22,33,44,55,66,77,88,99,100,111,112,113,1\n",
            "Enter product name: Car\n",
            "Enter brand: Benz\n",
            "Enter model: A12\n",
            "Enter specifications: Automatic, 4-wheel drive, leather seats and 5 star rating\n",
            "Enter price: $50000\n",
            "Enter availability: In stock\n",
            "Enter product description: Luxurious Benz A6AVM with automatic transmission, 4-wheel drive, and premium leather seats.\n",
            "Product added successfully.\n",
            "\n",
            "Product Details:\n",
            "SKU: AISJDKFJW93NJ\n",
            "Details: {'product_name': 'Wall Art Print', 'brand': 'ArtCraft', 'model': 'NatureCanvas-1001', 'specifications': 'Canvas print, Ready to hang', 'price': '$49.99', 'availability': 'In stock'}\n",
            "SKU: DJKFIEI432FIE\n",
            "Details: {'product_name': \"Men's Running Shoes\", 'brand': 'RunFit', 'model': 'SpeedX-500', 'specifications': 'Size 10, Lightweight design, Breathable material', 'price': '$79.99', 'availability': 'In stock'}\n",
            "SKU: GGOENEBJ079499\n",
            "Details: {'product_name': 'Smartphone', 'brand': 'XYZ Electronics', 'model': 'ABC-2000', 'specifications': '6.5-inch display, 128GB storage, 16MP camera', 'price': '$499.99', 'availability': 'In stock'}\n",
            "SKU: HJSKNWK429DJE\n",
            "Details: {'product_name': 'Wireless Earbuds', 'brand': 'SoundSync', 'model': 'TunePro-2022', 'specifications': 'Bluetooth 5.0, 20 hours battery life, Touch controls', 'price': '$89.99', 'availability': 'In stock'}\n",
            "SKU: JFKL3940NFKLJ\n",
            "Details: {'product_name': 'Resistance Bands Set', 'brand': 'FitFlex', 'model': 'StrengthPro-300', 'specifications': '5 bands, Varying resistance levels, Portable', 'price': '$34.99', 'availability': 'In stock'}\n",
            "SKU: LKDFJ49LSDJKL\n",
            "Details: {'product_name': 'Anti-Aging Face Cream', 'brand': 'GlowBeauty', 'model': 'AgeDefy-300', 'specifications': 'Natural ingredients, Hydrating formula', 'price': '$39.99', 'availability': 'In stock'}\n",
            "SKU: MWKDI3JFK39SL\n",
            "Details: {'product_name': 'Fictional Novel', 'brand': 'BestBooks', 'model': None, 'specifications': 'Paperback, 300 pages', 'price': '$14.99', 'availability': 'In stock'}\n",
            "SKU: NEKFJOWE9FDIW\n",
            "Details: {'product_name': 'Board Game', 'brand': 'FamilyFun', 'model': 'GameNight-2022', 'specifications': '2-6 players, Ages 8 and up', 'price': '$29.99', 'availability': 'In stock'}\n",
            "SKU: OWEJL398FWJLK\n",
            "Details: {'product_name': 'Yoga Mat', 'brand': 'ZenFitness', 'model': 'EcoMat-500', 'specifications': 'Non-slip, 6mm thickness, Eco-friendly material', 'price': '$19.99', 'availability': 'In stock'}\n",
            "SKU: XPLFJW2490XJN\n",
            "Details: {'product_name': 'Robot Vacuum Cleaner', 'brand': 'CleanTech', 'model': 'AutoSweep-9000', 'specifications': 'Smart navigation, HEPA filter, 90 minutes runtime', 'price': '$249.99', 'availability': 'In stock'}\n",
            "SKU: NEWSKU1234568\n",
            "Details: {'product_name': 'Car', 'brand': 'Benz', 'model': 'A12', 'specifications': 'Automatic, 4-wheel drive, leather seats and 5 star rating', 'price': '$50000', 'availability': 'In stock'}\n",
            "\n",
            "Sales Data:\n",
            "SKU: AISJDKFJW93NJ\n",
            "Quantities: [10, 12, 15, 18, 20, 22, 25, 28, 26, 30, 32, 29, 27, 24]\n",
            "SKU: DJKFIEI432FIE\n",
            "Quantities: [8, 10, 12, 15, 20, 18, 14, 13, 17, 10, 8, 11, 14, 16]\n",
            "SKU: GGOENEBJ079499\n",
            "Quantities: [15, 18, 22, 25, 28, 20, 17, 23, 19, 21, 24, 27, 18, 20]\n",
            "SKU: HJSKNWK429DJE\n",
            "Quantities: [30, 32, 35, 38, 40, 42, 45, 48, 50, 52, 55, 53, 49, 47]\n",
            "SKU: JFKL3940NFKLJ\n",
            "Quantities: [18, 20, 22, 25, 28, 30, 32, 35, 38, 36, 33, 29, 26, 24]\n",
            "SKU: LKDFJ49LSDJKL\n",
            "Quantities: [25, 28, 30, 32, 35, 38, 42, 40, 37, 34, 36, 31, 29, 27]\n",
            "SKU: MWKDI3JFK39SL\n",
            "Quantities: [30, 35, 40, 45, 50, 42, 37, 38, 41, 36, 33, 39, 40, 44]\n",
            "SKU: NEKFJOWE9FDIW\n",
            "Quantities: [12, 15, 18, 20, 22, 24, 21, 23, 25, 28, 30, 27, 26, 29]\n",
            "SKU: OWEJL398FWJLK\n",
            "Quantities: [20, 22, 25, 28, 30, 32, 35, 38, 36, 33, 29, 26, 24, 27]\n",
            "SKU: XPLFJW2490XJN\n",
            "Quantities: [5, 8, 9, 12, 15, 10, 14, 16, 20, 18, 22, 25, 19, 21]\n",
            "SKU: NEWSKU1234568\n",
            "Quantities: [11, 22, 33, 44, 55, 66, 77, 88, 99, 100, 111, 112, 113, 1]\n",
            "\n",
            "Product Descriptions:\n",
            "SKU: AISJDKFJW93NJ\n",
            "Description: Transform your living space with ArtCraft's NatureCanvas-1001 Wall Art Print.\n",
            "This canvas print, ready to hang, brings the beauty of nature into your home.\n",
            "With dimensions of 16 x 20 inches and a 4.6/5 stars rating, it's a stunning addition to your decor, creating a focal point that captures attention and sparks conversation.\n",
            "SKU: DJKFIEI432FIE\n",
            "Description: Elevate your running experience with the RunFit SpeedX-500 Men's Running Shoes.\n",
            "Designed for performance, these shoes feature a lightweight design, breathable material, and are available in vibrant Red, Blue, and classic Black.\n",
            "Whether you're a seasoned runner or just starting, these shoes provide comfort and support for every stride, ensuring you reach new milestones effortlessly.\n",
            "SKU: GGOENEBJ079499\n",
            "Description: Dive into the future with the XYZ Electronics Smartphone, model ABC-2000.\n",
            "Boasting a 6.5-inch display, 128GB storage, and a 16MP camera, this powerful device redefines the smartphone experience.\n",
            "With a sleek design and available in Black, Silver, and Blue, it combines cutting-edge technology with style, ensuring you stay connected in the most sophisticated way possible.\n",
            "SKU: HJSKNWK429DJE\n",
            "Description: Immerse yourself in superior audio quality with SoundSync's TunePro-2022 Wireless Earbuds.\n",
            "Featuring Bluetooth 5.0, 20 hours of battery life, and touch controls, these earbuds deliver a seamless and immersive listening experience.\n",
            "Available in Black and White, they combine style with functionality for music lovers on the go. \n",
            "With a 4.7/5 stars rating, they stand out as a top choice in the realm of wireless audio.\n",
            "SKU: JFKL3940NFKLJ\n",
            "Description: Embrace versatility in your workouts with FitFlex's StrengthPro-300 Resistance Bands Set.\n",
            "With 5 bands offering varying resistance levels and portability, this set is your go-to for effective strength training.\n",
            "Available in Red, Yellow, and Blue, it caters to different fitness levels and adds a dynamic dimension to your exercise routine.\n",
            "SKU: LKDFJ49LSDJKL\n",
            "Description: Rediscover youthful radiance with GlowBeauty's AgeDefy-300 Anti-Aging Face Cream.\n",
            "Formulated with natural ingredients and a hydrating formula, this skincare essential rejuvenates and nourishes your skin, leaving you with a vibrant and refreshed complexion.\n",
            "With a stellar 4.7/5 stars rating, it's a must-have for those embracing the journey to ageless beauty.\n",
            "SKU: MWKDI3JFK39SL\n",
            "Description: Immerse yourself in the world of storytelling with BestBooks' Fictional Novel.\n",
            "This paperback, spanning 300 pages, promises a captivating journey through the pages of an engaging narrative.\n",
            "Ideal for avid readers seeking an escape, this novel, with a 4.6/5 stars rating, is a testament to its ability to weave a compelling tale that keeps you hooked until the last page.\n",
            "SKU: NEKFJOWE9FDIW\n",
            "Description: Unleash the fun with FamilyFun's GameNight-2022 Board Game.\n",
            "Designed for 2-6 players and suitable for ages 8 and up, this exciting game promises laughter and bonding moments for the entire family.\n",
            "With a 4.4/5 stars rating, it's a testament to its ability to turn any ordinary night into an extraordinary game night filled with friendly competition and shared joy.\n",
            "SKU: OWEJL398FWJLK\n",
            "Description: Elevate your yoga practice with ZenFitness' EcoMat-500 Yoga Mat.\n",
            "Featuring a non-slip surface, 6mm thickness, and eco-friendly materials, this high-quality mat provides the perfect foundation for your workouts.\n",
            "Available in Purple, Green, and Blue, it not only enhances your comfort but also adds a touch of serenity to your exercise routine.\n",
            "SKU: XPLFJW2490XJN\n",
            "Description: Introducing the CleanTech AutoSweep-9000 Robot Vacuum Cleaner – your smart companion for automated cleaning.\n",
            "With smart navigation, a HEPA filter, and a runtime of 90 minutes, this efficient device takes care of your cleaning needs.\n",
            "Available in White and Silver, it blends seamlessly into your home, making cleanliness a hassle-free experience.\n",
            "SKU: NEWSKU1234568\n",
            "Description: Luxurious Benz A6AVM with automatic transmission, 4-wheel drive, and premium leather seats.\n"
          ]
        }
      ],
      "source": [
        "# Add the new product\n",
        "# Example usage\n",
        "main_folder = '/content/drive/My Drive/FileHandler/mainfolder'\n",
        "product_details, sales_data, product_descriptions = load_data(main_folder)\n",
        "product_details, sales_data, product_descriptions = create(product_details, sales_data, product_descriptions, main_folder)\n",
        "\n",
        "# Print the updated dictionaries\n",
        "print(\"\\nProduct Details:\")\n",
        "for sku, details in product_details.items():\n",
        "    print(f\"SKU: {sku}\")\n",
        "    print(\"Details:\", details)\n",
        "\n",
        "print(\"\\nSales Data:\")\n",
        "for sku, quantities in sales_data.items():\n",
        "    print(f\"SKU: {sku}\")\n",
        "    print(\"Quantities:\", quantities)\n",
        "\n",
        "print(\"\\nProduct Descriptions:\")\n",
        "for sku, description in product_descriptions.items():\n",
        "    print(f\"SKU: {sku}\")\n",
        "    print(\"Description:\", description)\n"
      ]
    },
    {
      "cell_type": "markdown",
      "metadata": {
        "id": "aC5XgGg0UF4n"
      },
      "source": [
        "### Checklist\n",
        "- Prompted and validated SKU length (13 characters)\n",
        "- Collected sales data for 14 days and ensure it includes exactly 14 integers\n",
        "- Gathered product name, brand, model, specifications, price, and availability\n",
        "- Collected a textual description of the product\n",
        "- Updated `product_details`, `sales_data`, and `product_descriptions` dictionaries after successful data validation\n",
        "- Returned the updated dictionaries in the correct order\n",
        "- Performed all validations before dictionary updates to maintain data integrity\n"
      ]
    },
    {
      "cell_type": "markdown",
      "metadata": {
        "id": "YlCh6WDtCfd2"
      },
      "source": [
        "# Stage 3 - Read\n",
        "In this stage, you will focus on reading and displaying the existing data for products. This involves fetching and presenting information such as sales data, product details, and product description based on the product sku the user inputs.\n",
        "- Task 8  - Display sales data\n",
        "- Task 9  - Display product details\n",
        "- Task 10 - Display product descriptions\n",
        "- Task 11 - Read function"
      ]
    },
    {
      "cell_type": "markdown",
      "metadata": {
        "id": "3R70iqW55eNi"
      },
      "source": [
        "## Task 8 - Display sales data"
      ]
    },
    {
      "cell_type": "markdown",
      "metadata": {
        "id": "1ugoJmHNT7hY"
      },
      "source": [
        "### Description\n",
        "This task involves creating a function to display sales data for a product based on its SKU."
      ]
    },
    {
      "cell_type": "markdown",
      "metadata": {
        "id": "SKF4W01zT7hZ"
      },
      "source": [
        "### Requirements\n",
        "- Define a function named `display_sales_data()` that displays sales data for a product with a given SKU.\n",
        "- The function should accept two parameters:\n",
        "   - `sales_data`: A dictionary containing sales data.\n",
        "   - `sku`: A string representing the product SKU.\n",
        "- The function should pretty print the sales data associated with the provided SKU.\n",
        "- The function should not return any value.\n"
      ]
    },
    {
      "cell_type": "markdown",
      "metadata": {
        "id": "6021VZyTT7hZ"
      },
      "source": [
        "### Recommendations\n",
        "- Use the `pprint` module for pretty printing the sales data.\n",
        "- Read more about `pprint` [here](https://docs.python.org/3/library/pprint.html).\n",
        "- Provide the data description and requirements to ChatGPT along with the libraries that you are using and ask it to generate code for the function.\n",
        "- If you get stuck somewhere, you can ask ChatGPT to explain the code to you and you can make edits as required."
      ]
    },
    {
      "cell_type": "code",
      "execution_count": 13,
      "metadata": {
        "id": "wbX5901q5ej4"
      },
      "outputs": [],
      "source": [
        "from pprint import pprint\n",
        "def display_sales_data(sales_data, sku):\n",
        "    \"\"\"\n",
        "    Display sales data for a product based on its SKU.\n",
        "\n",
        "    Args:\n",
        "        sales_data (dict): A dictionary containing sales data.\n",
        "        sku (str): The SKU of the product.\n",
        "    \"\"\"\n",
        "    if sku in sales_data:\n",
        "        print(f\"Sales Data for SKU {sku}:\")\n",
        "        pprint(sales_data[sku])\n",
        "    else:\n",
        "        print(f\"No sales data found for SKU {sku}.\")\n"
      ]
    },
    {
      "cell_type": "markdown",
      "metadata": {
        "id": "VGxsdxGZCwlc"
      },
      "source": [
        "Check your code here."
      ]
    },
    {
      "cell_type": "code",
      "execution_count": 35,
      "metadata": {
        "id": "h7duSOizCw7R",
        "colab": {
          "base_uri": "https://localhost:8080/"
        },
        "outputId": "027628eb-b850-481d-8283-4c83eb10de1d"
      },
      "outputs": [
        {
          "output_type": "stream",
          "name": "stdout",
          "text": [
            "Sales Data for SKU NEWSKU1234568:\n",
            "[11, 22, 33, 44, 55, 66, 77, 88, 99, 100, 111, 112, 113, 1]\n"
          ]
        }
      ],
      "source": [
        "sku = \"NEWSKU1234568\"\n",
        "display_sales_data(sales_data, sku)"
      ]
    },
    {
      "cell_type": "markdown",
      "metadata": {
        "id": "VzXYoHX0UGox"
      },
      "source": [
        "### Checklist\n",
        "- Function `display_sales_data()` defined\n",
        "- Sales data for the specified product SKU displayed"
      ]
    },
    {
      "cell_type": "markdown",
      "metadata": {
        "id": "NroXZVie5fHA"
      },
      "source": [
        "## Task 9 - Display product details\n"
      ]
    },
    {
      "cell_type": "markdown",
      "metadata": {
        "id": "Uh_43T7oT8JJ"
      },
      "source": [
        "### Description\n",
        "This task involves creating a function to display product details for a product based on its SKU.\n"
      ]
    },
    {
      "cell_type": "markdown",
      "metadata": {
        "id": "NLghuuxdT8JQ"
      },
      "source": [
        "### Requirements\n",
        "- Define a function named `display_product_details()` that displays product details for a product with a given SKU.\n",
        "- The function should accept two parameters:\n",
        "   - `product_details`: A dictionary containing product details.\n",
        "   - `sku`: A string representing the product SKU.\n",
        "- The function should pretty print the details of the product corresponding to the provided SKU.\n",
        "- The function should not return any value.\n"
      ]
    },
    {
      "cell_type": "markdown",
      "metadata": {
        "id": "-PTQskqlT8JR"
      },
      "source": [
        "### Recommendations\n",
        "- Utilize the `pprint` module for pretty printing the product details.\n",
        "- Read more about `pprint` [here](https://docs.python.org/3/library/pprint.html).\n",
        "- Provide the data description and requirements to ChatGPT along with the libraries that you are using and ask it to generate code for the function.\n",
        "- If you get stuck somewhere, you can ask ChatGPT to explain the code to you and you can make edits as required."
      ]
    },
    {
      "cell_type": "code",
      "execution_count": 14,
      "metadata": {
        "id": "oMgOHxUg5fZo"
      },
      "outputs": [],
      "source": [
        "from pprint import pprint\n",
        "\n",
        "def display_product_details(product_details, sku):\n",
        "    \"\"\"\n",
        "    Display product details for a product based on its SKU.\n",
        "\n",
        "    Args:\n",
        "        product_details (dict): A dictionary containing product details.\n",
        "        sku (str): The SKU of the product.\n",
        "    \"\"\"\n",
        "    if sku in product_details:\n",
        "        print(f\"Product Details for SKU {sku}:\")\n",
        "        pprint(product_details[sku])\n",
        "    else:\n",
        "        print(f\"No product details found for SKU {sku}.\")\n"
      ]
    },
    {
      "cell_type": "markdown",
      "metadata": {
        "id": "mW3o6GhTCxnC"
      },
      "source": [
        "Check your code here."
      ]
    },
    {
      "cell_type": "code",
      "execution_count": 37,
      "metadata": {
        "id": "dBgBMlLGCyAF",
        "colab": {
          "base_uri": "https://localhost:8080/"
        },
        "outputId": "82584977-82d9-41fc-abf1-03f37fc28b77"
      },
      "outputs": [
        {
          "output_type": "stream",
          "name": "stdout",
          "text": [
            "Product Details for SKU NEWSKU1234568:\n",
            "{'availability': 'In stock',\n",
            " 'brand': 'Benz',\n",
            " 'model': 'A12',\n",
            " 'price': '$50000',\n",
            " 'product_name': 'Car',\n",
            " 'specifications': 'Automatic, 4-wheel drive, leather seats and 5 star rating'}\n"
          ]
        }
      ],
      "source": [
        "sku = \"NEWSKU1234568\"\n",
        "display_product_details(product_details, sku)"
      ]
    },
    {
      "cell_type": "markdown",
      "metadata": {
        "id": "DKCn6a7tUHVE"
      },
      "source": [
        "### Checklist\n",
        "- Function `display_product_details()` defined\n",
        "- Product details for the specified product SKU displayed"
      ]
    },
    {
      "cell_type": "markdown",
      "metadata": {
        "id": "ERPSSzKP5fxA"
      },
      "source": [
        "## Task 10 - Display product description"
      ]
    },
    {
      "cell_type": "markdown",
      "metadata": {
        "id": "eHd0CTPnT8lp"
      },
      "source": [
        "### Description\n",
        "This task involves creating a function to display product description for a product based on its SKU.\n"
      ]
    },
    {
      "cell_type": "markdown",
      "metadata": {
        "id": "1OePwmU4T8lq"
      },
      "source": [
        "### Requirements\n",
        "- Define a function named `display_product_descriptions()` that displays the product description for a product with a given SKU.\n",
        "- The function should accept two parameters:\n",
        "   - `product_descriptions`: A dictionary containing product descriptions.\n",
        "   - `sku`: A string representing the product SKU.\n",
        "- The function should using pretty print the product description for that SKU.\n",
        "- The function should not return any value.\n"
      ]
    },
    {
      "cell_type": "markdown",
      "metadata": {
        "id": "O6jZw_84T8lq"
      },
      "source": [
        "### Recommendations\n",
        "- Provide the data description and requirements to ChatGPT along with the libraries that you are using and ask it to generate code for the function.\n",
        "- If you get stuck somewhere, you can ask ChatGPT to explain the code to you and you can make edits as required."
      ]
    },
    {
      "cell_type": "code",
      "execution_count": 15,
      "metadata": {
        "id": "yYDYdMFQ5gGX"
      },
      "outputs": [],
      "source": [
        "\n",
        "def display_product_descriptions(product_descriptions, sku):\n",
        "    \"\"\"\n",
        "    Display product description for a product based on its SKU.\n",
        "\n",
        "    Args:\n",
        "        product_descriptions (dict): A dictionary containing product descriptions.\n",
        "        sku (str): The SKU of the product.\n",
        "    \"\"\"\n",
        "    if sku in product_descriptions:\n",
        "        print(f\"Product Description for SKU {sku}:\")\n",
        "        print(product_descriptions[sku])\n",
        "    else:\n",
        "        print(f\"No product description found for SKU {sku}.\")\n"
      ]
    },
    {
      "cell_type": "markdown",
      "metadata": {
        "id": "mXnYw13fCy3w"
      },
      "source": [
        "Check your code here."
      ]
    },
    {
      "cell_type": "code",
      "execution_count": 39,
      "metadata": {
        "id": "9uYDj-_rCzN4",
        "colab": {
          "base_uri": "https://localhost:8080/"
        },
        "outputId": "811afb17-9906-42a7-80aa-7d18f4144d19"
      },
      "outputs": [
        {
          "output_type": "stream",
          "name": "stdout",
          "text": [
            "Product Description for SKU NEWSKU1234568:\n",
            "Luxurious Benz A6AVM with automatic transmission, 4-wheel drive, and premium leather seats.\n"
          ]
        }
      ],
      "source": [
        "sku = \"NEWSKU1234568\"\n",
        "display_product_descriptions(product_descriptions, sku)"
      ]
    },
    {
      "cell_type": "markdown",
      "metadata": {
        "id": "eSxW5hEpUHx3"
      },
      "source": [
        "### Checklist\n",
        "- Function `display_product_descriptions(`) defined\n",
        "- Product description for the specified product SKU displayed"
      ]
    },
    {
      "cell_type": "markdown",
      "metadata": {
        "id": "9yuXz53S5gYn"
      },
      "source": [
        "## Task 11 - Read function"
      ]
    },
    {
      "cell_type": "markdown",
      "metadata": {
        "id": "7IV9-DRXT9II"
      },
      "source": [
        "### Description\n",
        "This task involves creating a main function `read()` that calls the functions defined in tasks 8, 9, and 10 to display sales data, product details, and product descriptions."
      ]
    },
    {
      "cell_type": "markdown",
      "metadata": {
        "id": "DXOdZVpxT9IO"
      },
      "source": [
        "### Requirements\n",
        "- Define a function named `read()` that reads and displays sales data, product details, and product descriptions for a given product SKU.\n",
        "- The function should accept three parameters:\n",
        "  - `sales_data`: A dictionary containing sales data. Each entry maps an SKU to a list of sales quantities.\n",
        "  - `product_details`: A dictionary containing product details. Each entry maps an SKU to its corresponding product details.\n",
        "  - `product_descriptions`: A dictionary containing product descriptions. Each entry maps an SKU to its corresponding textual description.\n",
        "- The function performs the following operations:\n",
        "  - Prompts the user to input the SKU of the product they wish to inquire about.\n",
        "  - Checks if the provided SKU exists in any of the dictionaries (`sales_data`, `product_details`, or `product_descriptions`). If the SKU does not exist in any of these dictionaries, the function prints a message indicating that the product SKU was not found and exits early without performing any further actions.\n",
        "  - If the SKU exists, the function proceeds to display the sales data, product details, and product descriptions associated with that SKU. This is done by calling separate functions (`display_sales_data()`, `display_product_details()`, `display_product_descriptions()`) for each type of information, passing the respective dictionary and the SKU as arguments.\n",
        "- The function returns `None`.\n",
        "- This function is intended to provide a comprehensive overview of a product's information stored across different dictionaries, facilitating easy access to sales figures, detailed product information, and descriptive texts based on the product's SKU.\n"
      ]
    },
    {
      "cell_type": "markdown",
      "metadata": {
        "id": "2cJ6Ez67T9IO"
      },
      "source": [
        "### Recommendations\n",
        "- In cases where the SKU doesn't exist in the dataset, print a message and exit the function.\n",
        "- Provide the data description and requirements to ChatGPT along with the libraries that you are using and ask it to generate code for the function.\n",
        "- If you get stuck somewhere, you can ask ChatGPT to explain the code to you and you can make edits as required."
      ]
    },
    {
      "cell_type": "code",
      "execution_count": 16,
      "metadata": {
        "id": "ZghUP8YR5gsq"
      },
      "outputs": [],
      "source": [
        "def read(sales_data, product_details, product_descriptions):\n",
        "    \"\"\"\n",
        "    Read and display sales data, product details, and product descriptions for a given product SKU.\n",
        "\n",
        "    Args:\n",
        "        sales_data (dict): A dictionary containing sales data.\n",
        "        product_details (dict): A dictionary containing product details.\n",
        "        product_descriptions (dict): A dictionary containing product descriptions.\n",
        "    \"\"\"\n",
        "    # Prompt user to input SKU\n",
        "    sku = input(\"Enter the SKU of the product you wish to inquire about: \")\n",
        "    sku = sku.upper()  # Convert SKU to uppercase\n",
        "\n",
        "    # Check if SKU exists in any of the dictionaries\n",
        "    if sku not in sales_data and sku not in product_details and sku not in product_descriptions:\n",
        "        print(f\"Product with SKU {sku} not found.\")\n",
        "        return\n",
        "\n",
        "    # Display sales data\n",
        "    if sku in sales_data:\n",
        "        display_sales_data(sales_data, sku)\n",
        "    else:\n",
        "        print(f\"No sales data found for SKU {sku}.\")\n",
        "\n",
        "    # Display product details\n",
        "    if sku in product_details:\n",
        "        display_product_details(product_details, sku)\n",
        "    else:\n",
        "        print(f\"No product details found for SKU {sku}.\")\n",
        "\n",
        "    # Display product description\n",
        "    if sku in product_descriptions:\n",
        "        display_product_descriptions(product_descriptions, sku)\n",
        "    else:\n",
        "        print(f\"No product description found for SKU {sku}.\")\n"
      ]
    },
    {
      "cell_type": "markdown",
      "metadata": {
        "id": "A7U1vI-sC0jJ"
      },
      "source": [
        "Check your code here."
      ]
    },
    {
      "cell_type": "code",
      "execution_count": 41,
      "metadata": {
        "id": "XT7-DymLFzeD",
        "colab": {
          "base_uri": "https://localhost:8080/"
        },
        "outputId": "d7c7d60d-6980-4726-f325-6d96df936011"
      },
      "outputs": [
        {
          "output_type": "stream",
          "name": "stdout",
          "text": [
            "Enter the SKU of the product you wish to inquire about: NEWSKU1234568\n",
            "Sales Data for SKU NEWSKU1234568:\n",
            "[11, 22, 33, 44, 55, 66, 77, 88, 99, 100, 111, 112, 113, 1]\n",
            "Product Details for SKU NEWSKU1234568:\n",
            "{'availability': 'In stock',\n",
            " 'brand': 'Benz',\n",
            " 'model': 'A12',\n",
            " 'price': '$50000',\n",
            " 'product_name': 'Car',\n",
            " 'specifications': 'Automatic, 4-wheel drive, leather seats and 5 star rating'}\n",
            "Product Description for SKU NEWSKU1234568:\n",
            "Luxurious Benz A6AVM with automatic transmission, 4-wheel drive, and premium leather seats.\n"
          ]
        }
      ],
      "source": [
        "# Example\n",
        "read(sales_data, product_details, product_descriptions)"
      ]
    },
    {
      "cell_type": "markdown",
      "metadata": {
        "id": "w2Q-gJflUIyL"
      },
      "source": [
        "### Checklist\n",
        "- Function `read()` defined\n",
        "- Checked whether the SKU exists in the dictionaries\n",
        "- Edge cases where the SKU doesn't exist were handled properly\n",
        "- User prompted to enter a product SKU\n",
        "- Display functions called with the entered product SKU"
      ]
    },
    {
      "cell_type": "markdown",
      "metadata": {
        "id": "Y6uVPHPlCfpL"
      },
      "source": [
        "# Stage 4 - Update\n",
        "In this stage, you will focus on modifying existing data in our system. This includes updating sales data, product details, and product descriptions for existing products. Let's outline the tasks for this stage:\n",
        "\n",
        "- Task 12 - Update sales data\n",
        "- Task 13 - Update product details\n",
        "- Task 14 - Update product description\n",
        "- Task 15 - Update function"
      ]
    },
    {
      "cell_type": "markdown",
      "metadata": {
        "id": "uO1VEdzmyW7L"
      },
      "source": [
        "## Task 12 - Update sales data"
      ]
    },
    {
      "cell_type": "markdown",
      "metadata": {
        "id": "xn5fhQKpT9rd"
      },
      "source": [
        "### Description\n",
        "This task involves updating the sales data of an existing product."
      ]
    },
    {
      "cell_type": "markdown",
      "metadata": {
        "id": "TGHBktHWT9re"
      },
      "source": [
        "### Requirements\n",
        "- Define a function named `update_sales_data()` that updates the sales data of an existing product with the provided quantities.\n",
        "- The function should accept three parameters:\n",
        "  - `sales_data`: A dictionary containing sales data. Each entry maps an SKU to a list of sales quantities for the last 14 days.\n",
        "  - `sku`: A string representing the validated SKU of the product to be updated.\n",
        "  - `quantities`: A list of integers representing the validated sales quantities for all 14 days to be updated for the product.\n",
        "- The function assumes that both the `sku` and `quantities` have already been validated before being passed to this function.\n",
        "- The main operation of the function is to update the sales data for the given SKU with the new quantities provided. It directly assigns the new quantities to the corresponding SKU key in the `sales_data` dictionary.\n",
        "- The function returns the updated `sales_data` dictionary after successfully updating the sales quantities for the specified SKU.\n",
        "- This function is essential for maintaining accurate and up-to-date sales data for products within a system by allowing updates to sales figures based on new information or corrections to previously recorded data.\n"
      ]
    },
    {
      "cell_type": "markdown",
      "metadata": {
        "id": "m2-8vCwQT9re"
      },
      "source": [
        "### Recommendations\n",
        "- Provide the data description and requirements to ChatGPT along with the libraries that you are using and ask it to generate code for the function.\n",
        "- If you get stuck somewhere, you can ask ChatGPT to explain the code to you and you can make edits as required."
      ]
    },
    {
      "cell_type": "code",
      "execution_count": 17,
      "metadata": {
        "id": "RZ20VyrKyWgd"
      },
      "outputs": [],
      "source": [
        "import csv\n",
        "\n",
        "def update_sales_data(sales_data, sku, quantities, sales_data_file):\n",
        "    \"\"\"\n",
        "    Update the sales data of an existing product with the provided quantities and save the updated data to the sales data CSV file.\n",
        "\n",
        "    Args:\n",
        "        sales_data (dict): A dictionary containing sales data.\n",
        "        sku (str): The SKU of the product to be updated.\n",
        "        quantities (list): A list of integers representing the sales quantities for the last 14 days.\n",
        "        sales_data_file (str): The path to the sales data CSV file.\n",
        "\n",
        "    Returns:\n",
        "        dict: The updated sales_data dictionary.\n",
        "    \"\"\"\n",
        "    sku = sku.upper()  # Convert SKU to uppercase\n",
        "    if sku in sales_data:\n",
        "        sales_data[sku] = quantities\n",
        "        print(f\"Sales data for SKU {sku} updated successfully.\")\n",
        "\n",
        "        # # Write the updated sales data to the CSV file\n",
        "        # with open(sales_data_file, 'w', newline='') as file:\n",
        "        #     fieldnames = ['Product_SKU'] + [f'Day{i}' for i in range(1, 15)]\n",
        "        #     writer = csv.DictWriter(file, fieldnames=fieldnames)\n",
        "        #     writer.writeheader()\n",
        "        #     for sku, quantities in sales_data.items():\n",
        "        #         writer.writerow({'Product_SKU': sku, **{f'Day{i}': qty for i, qty in enumerate(quantities, start=1)}})\n",
        "    else:\n",
        "        print(f\"No sales data found for SKU {sku}.\")\n",
        "    return sales_data\n"
      ]
    },
    {
      "cell_type": "markdown",
      "metadata": {
        "id": "Zb48M1ckC1hw"
      },
      "source": [
        "Check your code here."
      ]
    },
    {
      "cell_type": "code",
      "execution_count": 48,
      "metadata": {
        "id": "DCcd1G1nC15h",
        "colab": {
          "base_uri": "https://localhost:8080/"
        },
        "outputId": "d9d14afb-7800-4b3e-80ee-2a05697e63f5"
      },
      "outputs": [
        {
          "output_type": "stream",
          "name": "stdout",
          "text": [
            "Existing Sales Data for SKU XPLFJW2490XJN:\n",
            "[5, 8, 9, 12, 15, 10, 14, 16, 20, 18, 22, 25, 19, 21]\n",
            "Sales data for SKU XPLFJW2490XJN updated successfully.\n",
            "\n",
            "Updated Sales Data for SKU XPLFJW2490XJN:\n",
            "[2, 25, 28, 30, 32, 35, 38, 36, 33, 29, 26, 2, 20, 2]\n"
          ]
        }
      ],
      "source": [
        "sales_data_file = '/content/drive/My Drive/FileHandler/mainfolder/sales_data.csv'\n",
        "\n",
        "sku = \"XPLFJW2490XJN\"\n",
        "quantities = [2, 25, 28, 30, 32, 35, 38, 36, 33, 29, 26, 2, 20, 2]\n",
        "\n",
        "# Print existing sales data\n",
        "if sku in sales_data:\n",
        "    print(f\"Existing Sales Data for SKU {sku}:\")\n",
        "    print(sales_data[sku])\n",
        "else:\n",
        "    print(f\"No existing sales data found for SKU {sku}.\")\n",
        "\n",
        "# Update and save sales data\n",
        "sales_data = update_sales_data(sales_data, sku, quantities, sales_data_file)\n",
        "\n",
        "# Print updated sales data\n",
        "print(f\"\\nUpdated Sales Data for SKU {sku}:\")\n",
        "print(sales_data[sku])"
      ]
    },
    {
      "cell_type": "markdown",
      "metadata": {
        "id": "3NUHjMExUJvf"
      },
      "source": [
        "### Checklist\n",
        "- Updated the `sales_data` dictionary with the new quantities\n",
        "- Returned the new `sales_data` dictionary"
      ]
    },
    {
      "cell_type": "markdown",
      "metadata": {
        "id": "SbmrftedyEM8"
      },
      "source": [
        "## Task 13 - Update product details"
      ]
    },
    {
      "cell_type": "markdown",
      "metadata": {
        "id": "dlSO4g_xT-GM"
      },
      "source": [
        "### Description\n",
        "This task involves updating the product details of an existing product.\n"
      ]
    },
    {
      "cell_type": "markdown",
      "metadata": {
        "id": "jiZukcFgT-GM"
      },
      "source": [
        "### Requirements\n",
        "- Define a function named `update_product_details()` that updates the product details of an existing product with the provided details.\n",
        "- The function should accept three parameters:\n",
        "  - `product_details`: A dictionary containing product details. Each entry maps an SKU to its corresponding set of product details, such as name, brand, model, specifications, price, and availability.\n",
        "  - `sku`: A string representing the SKU of the product to be updated.\n",
        "  - `updated_details`: A dictionary containing the validated updated details for the product. This dictionary should include information similar to what is stored in the `product_details` dictionary, such as product name, brand, model, specifications, price, and availability.\n",
        "- The function assumes that the existence of the `sku` in the `product_details` dictionary and the validity of the `updated_details` have already been validated prior to calling this function.\n",
        "- The main operation of the function is to update the product details for the given SKU with the provided updated details. It directly assigns the `updated_details` dictionary to the corresponding SKU key in the `product_details` dictionary.\n",
        "- The function returns the updated `product_details` dictionary after successfully updating the details for the specified SKU.\n",
        "- This function is crucial for maintaining accurate and up-to-date product information within a system by allowing for modifications to product details based on new information, corrections to previously recorded information, or changes in product specifications.\n"
      ]
    },
    {
      "cell_type": "markdown",
      "metadata": {
        "id": "zJJASHeCT-GM"
      },
      "source": [
        "### Recommendations\n",
        "- Provide the data description and requirements to ChatGPT along with the libraries that you are using and ask it to generate code for the function.\n",
        "- If you get stuck somewhere, you can ask ChatGPT to explain the code to you and you can make edits as required."
      ]
    },
    {
      "cell_type": "code",
      "execution_count": 18,
      "metadata": {
        "id": "ahwXZ7NyyDGD"
      },
      "outputs": [],
      "source": [
        "import json\n",
        "import os\n",
        "\n",
        "def update_product_details(product_details, sku, updated_details, details_folder):\n",
        "    \"\"\"\n",
        "    Update the product details for a specified SKU.\n",
        "\n",
        "    Args:\n",
        "        product_details (dict): A dictionary containing existing product details.\n",
        "        sku (str): The SKU of the product to be updated.\n",
        "        updated_details (dict): A dictionary containing the updated product details.\n",
        "        details_folder (str): The path to the folder containing the JSON files.\n",
        "\n",
        "    Returns:\n",
        "        dict: The updated product_details dictionary.\n",
        "    \"\"\"\n",
        "    if sku in product_details:\n",
        "        product_details[sku].update(updated_details)\n",
        "        # file_path = os.path.join(details_folder, f\"{sku}.json\")\n",
        "        # with open(file_path, 'w') as file:\n",
        "        #     json.dump(product_details[sku], file, indent=4)\n",
        "        print(f\"Product details for SKU {sku} updated successfully.\")\n",
        "    else:\n",
        "        print(f\"No product details found for SKU {sku}.\")\n",
        "    return product_details\n"
      ]
    },
    {
      "cell_type": "markdown",
      "metadata": {
        "id": "JYNKrbLTC21i"
      },
      "source": [
        "Check your code here."
      ]
    },
    {
      "cell_type": "code",
      "execution_count": 50,
      "metadata": {
        "id": "o5OiS_KSC3Ln",
        "colab": {
          "base_uri": "https://localhost:8080/"
        },
        "outputId": "960f0499-ac0c-4099-9321-9d6e3f11aad4"
      },
      "outputs": [
        {
          "output_type": "stream",
          "name": "stdout",
          "text": [
            "Existing Product Details for SKU XPLFJW2490XJN:\n",
            "{'product_name': 'Robot Vacuum Cleaner', 'brand': 'CleanTech', 'model': 'AutoSweep-9000', 'specifications': 'Smart navigation, HEPA filter, 90 minutes runtime', 'price': '$249.99', 'availability': 'In stock'}\n",
            "Product details for SKU XPLFJW2490XJN updated successfully.\n",
            "\n",
            "Updated Product Details for SKU XPLFJW2490XJN:\n",
            "{'product_name': 'Updated Product Name', 'brand': 'Updated2 Brand', 'model': 'Updated2 Model', 'specifications': 'Updated Specifications', 'price': 'Updated2 Price', 'availability': 'Updated Availability'}\n"
          ]
        }
      ],
      "source": [
        "details_folder = '/content/drive/My Drive/FileHandler/mainfolder/product_details'\n",
        "\n",
        "# Load product details\n",
        "product_details, sales_data, product_descriptions = load_data(main_folder)\n",
        "\n",
        "sku = \"XPLFJW2490XJN\"\n",
        "updated_details = {\n",
        "    'product_name': 'Updated Product Name',\n",
        "    'brand': 'Updated2 Brand',\n",
        "    'model': 'Updated2 Model',\n",
        "    'specifications': 'Updated Specifications',\n",
        "    'price': 'Updated2 Price',\n",
        "    'availability': 'Updated Availability'\n",
        "}\n",
        "\n",
        "# Print existing product details\n",
        "if sku in product_details:\n",
        "    print(f\"Existing Product Details for SKU {sku}:\")\n",
        "    print(product_details[sku])\n",
        "else:\n",
        "    print(f\"No existing product details found for SKU {sku}.\")\n",
        "\n",
        "# Update and save product details\n",
        "product_details = update_product_details(product_details, sku, updated_details, details_folder)\n",
        "\n",
        "# Print updated product details\n",
        "print(f\"\\nUpdated Product Details for SKU {sku}:\")\n",
        "print(product_details[sku])"
      ]
    },
    {
      "cell_type": "markdown",
      "metadata": {
        "id": "FuWcrSm7UKVt"
      },
      "source": [
        "### Checklist\n",
        "- Updated the `product_details` dictionary with the new details\n",
        "- Returned the new `product_details` dictionary"
      ]
    },
    {
      "cell_type": "markdown",
      "metadata": {
        "id": "e_6XdxaIyCzd"
      },
      "source": [
        "## Task 14 - Update product description"
      ]
    },
    {
      "cell_type": "markdown",
      "metadata": {
        "id": "4i1H8jNxT-iQ"
      },
      "source": [
        "### Description\n",
        "This task involves updating the product description of an existing product.\n"
      ]
    },
    {
      "cell_type": "markdown",
      "metadata": {
        "id": "q2khS0DrT-iQ"
      },
      "source": [
        "### Requirements\n",
        "- Define a function named `update_product_description()` that updates the product description of an existing product with the provided description.\n",
        "- The function should accept three parameters:\n",
        "  - `product_descriptions`: A dictionary containing product descriptions. Each entry maps an SKU to its corresponding textual description.\n",
        "  - `sku`: A string representing the SKU of the product to be updated.\n",
        "  - `updated_description`: A string containing the validated updated description for the product.\n",
        "- The function assumes that the existence of the `sku` in the `product_descriptions` dictionary and the validity of the `updated_description` have already been validated prior to calling this function.\n",
        "- The main operation of the function is to update the product description for the given SKU with the provided updated description. It directly assigns the `updated_description` to the corresponding SKU key in the `product_descriptions` dictionary.\n",
        "- The function returns the updated `product_descriptions` dictionary after successfully updating the description for the specified SKU.\n",
        "- This function is essential for maintaining accurate and up-to-date product narratives within a system by allowing for modifications to product descriptions based on new insights, corrections to previously recorded descriptions, or enhancements to how a product is presented.\n"
      ]
    },
    {
      "cell_type": "markdown",
      "metadata": {
        "id": "rNJg79wST-iQ"
      },
      "source": [
        "### Recommendations\n",
        "- Provide the data description and requirements to ChatGPT along with the libraries that you are using and ask it to generate code for the function.\n",
        "- If you get stuck somewhere, you can ask ChatGPT to explain the code to you and you can make edits as required."
      ]
    },
    {
      "cell_type": "code",
      "execution_count": 19,
      "metadata": {
        "id": "LtiZX67AyCbD"
      },
      "outputs": [],
      "source": [
        "import os\n",
        "\n",
        "def update_product_description(product_descriptions, sku, updated_description, descriptions_folder):\n",
        "    \"\"\"\n",
        "    Update the product description of an existing product.\n",
        "\n",
        "    Args:\n",
        "        product_descriptions (dict): A dictionary containing product descriptions.\n",
        "        sku (str): The SKU of the product to be updated.\n",
        "        updated_description (str): The updated description for the product.\n",
        "        descriptions_folder (str): The path to the folder containing the TXT files.\n",
        "\n",
        "    Returns:\n",
        "        dict: The updated product_descriptions dictionary.\n",
        "    \"\"\"\n",
        "    if sku in product_descriptions:\n",
        "        product_descriptions[sku] = updated_description\n",
        "        # file_path = os.path.join(descriptions_folder, f\"{sku}.txt\")\n",
        "        # with open(file_path, 'w') as file:\n",
        "        #     file.write(updated_description)\n",
        "        print(f\"Product description for SKU {sku} updated successfully.\")\n",
        "    else:\n",
        "        print(f\"No existing product description found for SKU {sku}.\")\n",
        "    return product_descriptions\n",
        "\n",
        "\n"
      ]
    },
    {
      "cell_type": "markdown",
      "metadata": {
        "id": "1tJwB1hRC4h4"
      },
      "source": [
        "Check your code here."
      ]
    },
    {
      "cell_type": "code",
      "execution_count": 53,
      "metadata": {
        "id": "R1_lWfRPC5Bb",
        "colab": {
          "base_uri": "https://localhost:8080/"
        },
        "outputId": "eccad082-f423-4896-df7d-7a46977b56d9"
      },
      "outputs": [
        {
          "output_type": "stream",
          "name": "stdout",
          "text": [
            "Existing Product Description for SKU XPLFJW2490XJN:\n",
            "Updated product description for owl toy .\n",
            "Product description for SKU XPLFJW2490XJN updated successfully.\n",
            "\n",
            "Updated Product Description for SKU XPLFJW2490XJN:\n",
            "Updated product description  .\n"
          ]
        }
      ],
      "source": [
        "# Example usage\n",
        "sku = \"XPLFJW2490XJN\"\n",
        "updated_description = \"Updated product description  .\"\n",
        "descriptions_folder = '/content/drive/My Drive/FileHandler/mainfolder/product_descriptions'\n",
        "\n",
        "# Print existing product description\n",
        "if sku in product_descriptions:\n",
        "    print(f\"Existing Product Description for SKU {sku}:\")\n",
        "    print(product_descriptions[sku])\n",
        "else:\n",
        "    print(f\"No existing product description found for SKU {sku}.\")\n",
        "\n",
        "# Update and save product description\n",
        "product_descriptions = update_product_description(product_descriptions, sku, updated_description, descriptions_folder)\n",
        "\n",
        "# Print updated product description\n",
        "print(f\"\\nUpdated Product Description for SKU {sku}:\")\n",
        "print(product_descriptions[sku])\n"
      ]
    },
    {
      "cell_type": "markdown",
      "metadata": {
        "id": "NhjnhIRyULIS"
      },
      "source": [
        "### Checklist\n",
        "- Updated the `product_description` dictionary with the new description\n",
        "- Returned the new `product_descriptions` dictionary"
      ]
    },
    {
      "cell_type": "markdown",
      "metadata": {
        "id": "OcY0zxZex4g8"
      },
      "source": [
        "## Task 15 - Update function"
      ]
    },
    {
      "cell_type": "markdown",
      "metadata": {
        "id": "WEldxTtrT_El"
      },
      "source": [
        "### Description\n",
        "This task involves creating a function named `update()` which calls appropriate update functions based on user input.\n"
      ]
    },
    {
      "cell_type": "markdown",
      "metadata": {
        "id": "kndQHuv5T_El"
      },
      "source": [
        "### Requirements\n",
        "- Define a function named `update()` that updates product information, including sales data, product details, and product descriptions, for a specified SKU.\n",
        "- The function should provide a menu-driven interface for users to select the type of product data they wish to update and input new values accordingly.\n",
        "- Parameters:\n",
        "  - `product_details`: A dictionary containing existing product details, with SKU as keys and details as values.\n",
        "  - `sales_data`: A dictionary containing sales data, with SKU as keys and lists of sales quantities for the last 14 days as values.\n",
        "  - `product_descriptions`: A dictionary containing product descriptions, with SKU as keys and descriptions as values.\n",
        "- The function begins by prompting the user to enter the SKU of the product they want to update.\n",
        "  - If the entered SKU does not exist in `product_details`, print a message indicating that the SKU was not found and exit the function early.\n",
        "- The function then displays a menu with options to update sales data, product details, product description, or exit the process.\n",
        "  - For updating sales data, the user is prompted to enter new quantities for all 14 days. The input is validated to ensure it consists of exactly 14 integers.\n",
        "  - For updating product details, the user is prompted to enter updated values for product name, brand, model, specifications, price, and availability.\n",
        "  - For updating the product description, the user is prompted to enter a new product description.\n",
        "- Each update option validates the corresponding input data before applying the update to ensure data integrity.\n",
        "- The function returns a tuple containing the updated `product_details`, `sales_data`, and `product_descriptions` dictionaries in that order.\n",
        "- Usage:\n",
        "  - The function is designed to be called when an existing product's information needs to be updated. It requires the caller to pass the current states of the `product_details`, `sales_data`, and `product_descriptions` dictionaries and returns their updated states after the modifications.\n"
      ]
    },
    {
      "cell_type": "markdown",
      "metadata": {
        "id": "RZmjVkNET_El"
      },
      "source": [
        "### Recommendations\n",
        "- Provide the data description and requirements to ChatGPT along with the libraries that you are using and ask it to generate code for the function.\n",
        "- If you get stuck somewhere, you can ask ChatGPT to explain the code to you and you can make edits as required."
      ]
    },
    {
      "cell_type": "code",
      "execution_count": 20,
      "metadata": {
        "id": "4u7acshdxeCW"
      },
      "outputs": [],
      "source": [
        "def update(product_details, sales_data, product_descriptions):\n",
        "    \"\"\"\n",
        "    Update product information, including sales data, product details, and product descriptions,\n",
        "    for a specified SKU.\n",
        "\n",
        "    Args:\n",
        "        product_details (dict): A dictionary containing existing product details.\n",
        "        sales_data (dict): A dictionary containing sales data.\n",
        "        product_descriptions (dict): A dictionary containing product descriptions.\n",
        "\n",
        "    Returns:\n",
        "        tuple: A tuple containing the updated product_details, sales_data, and product_descriptions dictionaries.\n",
        "    \"\"\"\n",
        "    sku = input(\"Enter the SKU of the product you want to update: \").upper()  # Convert to uppercase\n",
        "    if sku not in product_details:\n",
        "        print(f\"SKU {sku} not found.\")\n",
        "        return product_details, sales_data, product_descriptions\n",
        "\n",
        "    while True:\n",
        "        print(\"\\nSelect the information you want to update:\")\n",
        "        print(\"1. Sales Data\")\n",
        "        print(\"2. Product Details\")\n",
        "        print(\"3. Product Description\")\n",
        "        print(\"4. Exit\")\n",
        "\n",
        "        choice = input(\"Enter your choice (1-4): \")\n",
        "        if choice == '1':\n",
        "            new_quantities = input(\"Enter new sales quantities for the last 14 days (comma-separated): \").split(',')\n",
        "            if len(new_quantities) != 14 or not all(q.isdigit() for q in new_quantities):\n",
        "                print(\"Error: Sales data must consist of exactly 14 integers.\")\n",
        "                continue\n",
        "            sales_data = update_sales_data(sales_data, sku, [int(q) for q in new_quantities], '/content/drive/My Drive/FileHandler/mainfolder/sales_data.csv')\n",
        "\n",
        "        elif choice == '2':\n",
        "            updated_details = {}\n",
        "            updated_details['product_name'] = input(\"Enter updated product name: \")\n",
        "            updated_details['brand'] = input(\"Enter updated brand: \")\n",
        "            updated_details['model'] = input(\"Enter updated model: \")\n",
        "            updated_details['specifications'] = input(\"Enter updated specifications: \")\n",
        "            updated_details['price'] = input(\"Enter updated price: \")\n",
        "            updated_details['availability'] = input(\"Enter updated availability: \")\n",
        "            product_details = update_product_details(product_details, sku, updated_details, '/content/drive/My Drive/FileHandler/mainfolder/product_details')\n",
        "\n",
        "        elif choice == '3':\n",
        "            updated_description = input(\"Enter updated product description: \")\n",
        "            product_descriptions = update_product_description(product_descriptions, sku, updated_description, '/content/drive/My Drive/FileHandler/mainfolder/product_descriptions')\n",
        "\n",
        "        elif choice == '4':\n",
        "            print(\"Exiting update process.\")\n",
        "            break\n",
        "\n",
        "        else:\n",
        "            print(\"Invalid choice. Please enter a number from 1 to 4.\")\n",
        "\n",
        "    return product_details, sales_data, product_descriptions\n"
      ]
    },
    {
      "cell_type": "markdown",
      "metadata": {
        "id": "kwXP6bQ8C6aU"
      },
      "source": [
        "Check your code here."
      ]
    },
    {
      "cell_type": "code",
      "execution_count": 55,
      "metadata": {
        "id": "tzP8XYBjJgjf",
        "colab": {
          "base_uri": "https://localhost:8080/"
        },
        "outputId": "81a8fa41-c006-451f-ed2f-9547d6c6fe01"
      },
      "outputs": [
        {
          "output_type": "stream",
          "name": "stdout",
          "text": [
            "Enter the SKU of the product you want to update: XPLFJW2490XJN\n",
            "\n",
            "Existing Product Details:\n",
            "Sales Data:\n",
            "[5, 8, 9, 12, 15, 10, 14, 16, 20, 18, 22, 25, 19, 21]\n",
            "\n",
            "Product Details:\n",
            "{'availability': 'Updated Availability',\n",
            " 'brand': 'Updated2 Brand',\n",
            " 'model': 'Updated2 Model',\n",
            " 'price': 'Updated2 Price',\n",
            " 'product_name': 'Updated Product Name',\n",
            " 'specifications': 'Updated Specifications'}\n",
            "\n",
            "Product Description:\n",
            "'Updated product description  .'\n",
            "Enter the SKU of the product you want to update: XPLFJW2490XJN\n",
            "\n",
            "Select the information you want to update:\n",
            "1. Sales Data\n",
            "2. Product Details\n",
            "3. Product Description\n",
            "4. Exit\n",
            "Enter your choice (1-4): 2\n",
            "Enter updated product name: Car\n",
            "Enter updated brand: Audi\n",
            "Enter updated model: A12\n",
            "Enter updated specifications: Automatic, 4-wheel drive, leather seats and 5 star rating\n",
            "Enter updated price: $4500\n",
            "Enter updated availability: In stock\n",
            "Product details for SKU XPLFJW2490XJN updated successfully.\n",
            "\n",
            "Select the information you want to update:\n",
            "1. Sales Data\n",
            "2. Product Details\n",
            "3. Product Description\n",
            "4. Exit\n",
            "Enter your choice (1-4): 3\n",
            "Enter updated product description: Luxurious Benz A6AVM with automatic transmission, 4-wheel drive, and premium leather seats.\n",
            "Product description for SKU XPLFJW2490XJN updated successfully.\n",
            "\n",
            "Select the information you want to update:\n",
            "1. Sales Data\n",
            "2. Product Details\n",
            "3. Product Description\n",
            "4. Exit\n",
            "Enter your choice (1-4): 4\n",
            "Exiting update process.\n",
            "\n",
            "Updated Product Details:\n",
            "Sales Data:\n",
            "[5, 8, 9, 12, 15, 10, 14, 16, 20, 18, 22, 25, 19, 21]\n",
            "\n",
            "Product Details:\n",
            "{'availability': 'In stock',\n",
            " 'brand': 'Audi',\n",
            " 'model': 'A12',\n",
            " 'price': '$4500',\n",
            " 'product_name': 'Car',\n",
            " 'specifications': 'Automatic, 4-wheel drive, leather seats and 5 star rating'}\n",
            "\n",
            "Product Description:\n",
            "('Luxurious Benz A6AVM with automatic transmission, 4-wheel drive, and premium '\n",
            " 'leather seats.')\n"
          ]
        }
      ],
      "source": [
        "# Get the SKU from the user\n",
        "sku = input(\"Enter the SKU of the product you want to update: \")\n",
        "\n",
        "# Print existing product information\n",
        "print(\"\\nExisting Product Details:\")\n",
        "print(\"Sales Data:\")\n",
        "pprint(sales_data.get(sku, \"No sales data found\"))\n",
        "print(\"\\nProduct Details:\")\n",
        "pprint(product_details.get(sku, \"No product details found\"))\n",
        "print(\"\\nProduct Description:\")\n",
        "pprint(product_descriptions.get(sku, \"No product description found\"))\n",
        "\n",
        "# Update product information\n",
        "product_details, sales_data, product_descriptions = update(product_details, sales_data, product_descriptions)\n",
        "\n",
        "# Print updated product information\n",
        "print(\"\\nUpdated Product Details:\")\n",
        "print(\"Sales Data:\")\n",
        "pprint(sales_data.get(sku, \"No sales data found\"))\n",
        "print(\"\\nProduct Details:\")\n",
        "pprint(product_details.get(sku, \"No product details found\"))\n",
        "print(\"\\nProduct Description:\")\n",
        "pprint(product_descriptions.get(sku, \"No product description found\"))\n"
      ]
    },
    {
      "cell_type": "markdown",
      "metadata": {
        "id": "zjQ--UxKUMRB"
      },
      "source": [
        "### Checklist\n",
        "- Prompted the user for SKU of the product to be updated\n",
        "- Validated whether the SKU exists in the dictionaries or not\n",
        "- Provided options to the user for what aspect of data to update\n",
        "- Called the appropriate update function based on user choice by passing the appropriate arguments\n",
        "- Allowed user to exit or continue updating data"
      ]
    },
    {
      "cell_type": "markdown",
      "metadata": {
        "id": "YThJDsd3ChRz"
      },
      "source": [
        "# Stage 5 - Delete\n",
        "In this stage, you will implement the functionality to delete entries from the data structures. This involves removing sales data, product details, and product descriptions associated with a given product SKU.\n",
        "\n",
        "In this task though, you will also need to delete the JSON and TXT files corresponding to the SKU entered by the user.\n",
        "\n",
        "- Task 16 - Delete function"
      ]
    },
    {
      "cell_type": "markdown",
      "metadata": {
        "id": "N6wvvrXUKlXR"
      },
      "source": [
        "## Task 16 - Delete function"
      ]
    },
    {
      "cell_type": "markdown",
      "metadata": {
        "id": "HGGeNEjqT_-Z"
      },
      "source": [
        "### Description\n",
        "In this task you will create a function called `delete()` which is responsible for deleting entries related to a given product SKU from the `sales_data`, `product_details`, and `product_descriptions` dictionaries."
      ]
    },
    {
      "cell_type": "markdown",
      "metadata": {
        "id": "AmVM_kuFT_-g"
      },
      "source": [
        "### Requirements\n",
        "- Define a function named `delete()` that deletes entries for a given SKU from sales data, product details, product descriptions dictionaries, and also deletes corresponding JSON and text files related to the product.\n",
        "- The function should accept four parameters:\n",
        "  - `sales_data`: A dictionary containing sales data, with SKU as keys.\n",
        "  - `product_details`: A dictionary containing product details, with SKU as keys.\n",
        "  - `product_descriptions`: A dictionary containing product descriptions, with SKU as keys.\n",
        "  - `main_folder`: A string representing the location of the main folder containing subfolders for product details and product descriptions, where corresponding JSON and text files are stored.\n",
        "- The function begins by prompting the user to enter the SKU of the product they wish to delete.\n",
        "  - If the SKU does not exist in the `sales_data` dictionary, print a message indicating that the SKU was not found and exit the function early.\n",
        "- The function then proceeds to delete the entries for the specified SKU from the `sales_data`, `product_details`, and `product_descriptions` dictionaries.\n",
        "- After successfully removing the entries from the dictionaries, the function attempts to delete the corresponding JSON file (containing product details) and text file (containing product descriptions) from the specified `main_folder`. It constructs the paths to these files based on the SKU and the folder structure.\n",
        "  - If the specified files exist, they are deleted, and a success message is printed.\n",
        "  - If a file does not exist, a message indicating that the file was not found is printed.\n",
        "- The function returns a tuple containing the updated `sales_data`, `product_details`, and `product_descriptions` dictionaries.\n",
        "- Usage:\n",
        "  - The function is designed for cases where a product is to be completely removed from the system, including its sales records, details, descriptions, and associated files. It requires the current states of the `sales_data`, `product_details`, and `product_descriptions` dictionaries and the path to the *main_folder* as inputs, and returns their updated states after the deletion.\n"
      ]
    },
    {
      "cell_type": "markdown",
      "metadata": {
        "id": "0SXuiZyiT_-g"
      },
      "source": [
        "### Recommendations\n",
        "- Ensure that the function checks if the given SKU exists in each of the dictionaries before attempting deletion.\n",
        "- Provide the data description and requirements to ChatGPT along with the libraries that you are using and ask it to generate code for the function.\n",
        "- If you get stuck somewhere, you can ask ChatGPT to explain the code to you and you can make edits as required."
      ]
    },
    {
      "cell_type": "code",
      "execution_count": 26,
      "metadata": {
        "id": "GfOZQtEzKk9S"
      },
      "outputs": [],
      "source": [
        "import os\n",
        "import csv\n",
        "\n",
        "def delete(sales_data, product_details, product_descriptions, main_folder):\n",
        "    \"\"\"\n",
        "    Delete entries for a given SKU from sales data, product details, product descriptions dictionaries,\n",
        "    and corresponding JSON and text files, and write the updated sales data to a CSV file.\n",
        "\n",
        "    Args:\n",
        "        sales_data (dict): A dictionary containing sales data, with SKU as keys.\n",
        "        product_details (dict): A dictionary containing product details, with SKU as keys.\n",
        "        product_descriptions (dict): A dictionary containing product descriptions, with SKU as keys.\n",
        "        main_folder (str): A string representing the location of the main folder containing subfolders for product details and product descriptions.\n",
        "\n",
        "    Returns:\n",
        "        tuple: A tuple containing the updated sales_data, product_details, and product_descriptions dictionaries.\n",
        "    \"\"\"\n",
        "    # Get the SKU from the user\n",
        "    sku = input(\"Enter the SKU of the product you want to delete: \").upper()\n",
        "\n",
        "    # Check if SKU exists in the sales_data dictionary\n",
        "    if sku not in sales_data:\n",
        "        print(f\"No entry found for SKU {sku} in sales_data.csv.\")\n",
        "        return sales_data, product_details, product_descriptions\n",
        "\n",
        "    # Delete corresponding JSON file\n",
        "    json_file_path = os.path.join(main_folder, 'product_details', f\"{sku}.json\")\n",
        "    if os.path.exists(json_file_path):\n",
        "        try:\n",
        "          os.remove(json_file_path)\n",
        "        except Exception as e:\n",
        "          print(f\"failed to remove json{e}\")\n",
        "        del product_details[sku]\n",
        "        print(f\"Deleted JSON file for SKU {sku}.\")\n",
        "    else:\n",
        "        print(f\"JSON file for SKU {sku} not found.\")\n",
        "\n",
        "    # Delete corresponding text file\n",
        "    text_file_path = os.path.join(main_folder, 'product_descriptions', f\"{sku}.txt\")\n",
        "    if os.path.exists(text_file_path):\n",
        "        os.remove(text_file_path)\n",
        "        del product_descriptions[sku]\n",
        "        print(f\"Deleted text file for SKU {sku}.\")\n",
        "    else:\n",
        "        print(f\"Text file for SKU {sku} not found.\")\n",
        "\n",
        "    # Delete entry from sales_data\n",
        "    del sales_data[sku]\n",
        "    print(f\"Deleted entry for SKU {sku} from sales_data.\")\n",
        "\n",
        "    # Write updated sales_data back to CSV\n",
        "    # sales_data_file = os.path.join(main_folder, 'sales_data.csv')\n",
        "    # with open(sales_data_file, mode='w', newline='') as file:\n",
        "    #     writer = csv.writer(file)\n",
        "    #     writer.writerow(['Product_SKU', 'Day1', 'Day2', 'Day3', 'Day4', 'Day5', 'Day6', 'Day7', 'Day8', 'Day9', 'Day10', 'Day11', 'Day12', 'Day13', 'Day14'])\n",
        "    #     for s, data in sales_data.items():  # Use a different variable name (s) here\n",
        "    #         writer.writerow([s] + data)\n",
        "\n",
        "    print(f\"Deleted entries for SKU {sku} from dictionaries\")\n",
        "\n",
        "    return sales_data, product_details, product_descriptions\n"
      ]
    },
    {
      "cell_type": "markdown",
      "metadata": {
        "id": "tv5_IhiQC9rb"
      },
      "source": [
        "Check your code here."
      ]
    },
    {
      "cell_type": "code",
      "execution_count": 27,
      "metadata": {
        "id": "5RxHFGhEKKoW",
        "colab": {
          "base_uri": "https://localhost:8080/"
        },
        "outputId": "baa8b743-4f0e-4aee-f65d-c937b2b736d4"
      },
      "outputs": [
        {
          "output_type": "stream",
          "name": "stdout",
          "text": [
            "Enter the SKU of the product you want to delete: XPLFJW2490XJN\n",
            "Deleted JSON file for SKU XPLFJW2490XJN.\n",
            "Deleted text file for SKU XPLFJW2490XJN.\n",
            "Deleted entry for SKU XPLFJW2490XJN from sales_data.\n",
            "Deleted entries for SKU XPLFJW2490XJN from dictionaries\n"
          ]
        },
        {
          "output_type": "execute_result",
          "data": {
            "text/plain": [
              "({'AISJDKFJW93NJ': [10, 12, 15, 18, 20, 22, 25, 28, 26, 30, 32, 29, 27, 24],\n",
              "  'DJKFIEI432FIE': [8, 10, 12, 15, 20, 18, 14, 13, 17, 10, 8, 11, 14, 16],\n",
              "  'GGOENEBJ079499': [15, 18, 22, 25, 28, 20, 17, 23, 19, 21, 24, 27, 18, 20],\n",
              "  'HJSKNWK429DJE': [30, 32, 35, 38, 40, 42, 45, 48, 50, 52, 55, 53, 49, 47],\n",
              "  'JFKL3940NFKLJ': [18, 20, 22, 25, 28, 30, 32, 35, 38, 36, 33, 29, 26, 24],\n",
              "  'LKDFJ49LSDJKL': [25, 28, 30, 32, 35, 38, 42, 40, 37, 34, 36, 31, 29, 27],\n",
              "  'MWKDI3JFK39SL': [30, 35, 40, 45, 50, 42, 37, 38, 41, 36, 33, 39, 40, 44],\n",
              "  'NEKFJOWE9FDIW': [12, 15, 18, 20, 22, 24, 21, 23, 25, 28, 30, 27, 26, 29],\n",
              "  'OWEJL398FWJLK': [20, 22, 25, 28, 30, 32, 35, 38, 36, 33, 29, 26, 24, 27]},\n",
              " {'AISJDKFJW93NJ': {'product_name': 'Wall Art Print',\n",
              "   'brand': 'ArtCraft',\n",
              "   'model': 'NatureCanvas-1001',\n",
              "   'specifications': 'Canvas print, Ready to hang',\n",
              "   'price': '$49.99',\n",
              "   'availability': 'In stock'},\n",
              "  'DJKFIEI432FIE': {'product_name': \"Men's Running Shoes\",\n",
              "   'brand': 'RunFit',\n",
              "   'model': 'SpeedX-500',\n",
              "   'specifications': 'Size 10, Lightweight design, Breathable material',\n",
              "   'price': '$79.99',\n",
              "   'availability': 'In stock'},\n",
              "  'GGOENEBJ079499': {'product_name': 'Smartphone',\n",
              "   'brand': 'XYZ Electronics',\n",
              "   'model': 'ABC-2000',\n",
              "   'specifications': '6.5-inch display, 128GB storage, 16MP camera',\n",
              "   'price': '$499.99',\n",
              "   'availability': 'In stock'},\n",
              "  'HJSKNWK429DJE': {'product_name': 'Wireless Earbuds',\n",
              "   'brand': 'SoundSync',\n",
              "   'model': 'TunePro-2022',\n",
              "   'specifications': 'Bluetooth 5.0, 20 hours battery life, Touch controls',\n",
              "   'price': '$89.99',\n",
              "   'availability': 'In stock'},\n",
              "  'JFKL3940NFKLJ': {'product_name': 'Resistance Bands Set',\n",
              "   'brand': 'FitFlex',\n",
              "   'model': 'StrengthPro-300',\n",
              "   'specifications': '5 bands, Varying resistance levels, Portable',\n",
              "   'price': '$34.99',\n",
              "   'availability': 'In stock'},\n",
              "  'LKDFJ49LSDJKL': {'product_name': 'Anti-Aging Face Cream',\n",
              "   'brand': 'GlowBeauty',\n",
              "   'model': 'AgeDefy-300',\n",
              "   'specifications': 'Natural ingredients, Hydrating formula',\n",
              "   'price': '$39.99',\n",
              "   'availability': 'In stock'},\n",
              "  'MWKDI3JFK39SL': {'product_name': 'Fictional Novel',\n",
              "   'brand': 'BestBooks',\n",
              "   'model': None,\n",
              "   'specifications': 'Paperback, 300 pages',\n",
              "   'price': '$14.99',\n",
              "   'availability': 'In stock'},\n",
              "  'NEKFJOWE9FDIW': {'product_name': 'Board Game',\n",
              "   'brand': 'FamilyFun',\n",
              "   'model': 'GameNight-2022',\n",
              "   'specifications': '2-6 players, Ages 8 and up',\n",
              "   'price': '$29.99',\n",
              "   'availability': 'In stock'}},\n",
              " {'AISJDKFJW93NJ': \"Transform your living space with ArtCraft's NatureCanvas-1001 Wall Art Print.\\nThis canvas print, ready to hang, brings the beauty of nature into your home.\\nWith dimensions of 16 x 20 inches and a 4.6/5 stars rating, it's a stunning addition to your decor, creating a focal point that captures attention and sparks conversation.\",\n",
              "  'DJKFIEI432FIE': \"Elevate your running experience with the RunFit SpeedX-500 Men's Running Shoes.\\nDesigned for performance, these shoes feature a lightweight design, breathable material, and are available in vibrant Red, Blue, and classic Black.\\nWhether you're a seasoned runner or just starting, these shoes provide comfort and support for every stride, ensuring you reach new milestones effortlessly.\",\n",
              "  'GGOENEBJ079499': 'Dive into the future with the XYZ Electronics Smartphone, model ABC-2000.\\nBoasting a 6.5-inch display, 128GB storage, and a 16MP camera, this powerful device redefines the smartphone experience.\\nWith a sleek design and available in Black, Silver, and Blue, it combines cutting-edge technology with style, ensuring you stay connected in the most sophisticated way possible.',\n",
              "  'HJSKNWK429DJE': \"Immerse yourself in superior audio quality with SoundSync's TunePro-2022 Wireless Earbuds.\\nFeaturing Bluetooth 5.0, 20 hours of battery life, and touch controls, these earbuds deliver a seamless and immersive listening experience.\\nAvailable in Black and White, they combine style with functionality for music lovers on the go. \\nWith a 4.7/5 stars rating, they stand out as a top choice in the realm of wireless audio.\",\n",
              "  'JFKL3940NFKLJ': \"Embrace versatility in your workouts with FitFlex's StrengthPro-300 Resistance Bands Set.\\nWith 5 bands offering varying resistance levels and portability, this set is your go-to for effective strength training.\\nAvailable in Red, Yellow, and Blue, it caters to different fitness levels and adds a dynamic dimension to your exercise routine.\",\n",
              "  'LKDFJ49LSDJKL': \"Rediscover youthful radiance with GlowBeauty's AgeDefy-300 Anti-Aging Face Cream.\\nFormulated with natural ingredients and a hydrating formula, this skincare essential rejuvenates and nourishes your skin, leaving you with a vibrant and refreshed complexion.\\nWith a stellar 4.7/5 stars rating, it's a must-have for those embracing the journey to ageless beauty.\",\n",
              "  'MWKDI3JFK39SL': \"Immerse yourself in the world of storytelling with BestBooks' Fictional Novel.\\nThis paperback, spanning 300 pages, promises a captivating journey through the pages of an engaging narrative.\\nIdeal for avid readers seeking an escape, this novel, with a 4.6/5 stars rating, is a testament to its ability to weave a compelling tale that keeps you hooked until the last page.\",\n",
              "  'NEKFJOWE9FDIW': \"Unleash the fun with FamilyFun's GameNight-2022 Board Game.\\nDesigned for 2-6 players and suitable for ages 8 and up, this exciting game promises laughter and bonding moments for the entire family.\\nWith a 4.4/5 stars rating, it's a testament to its ability to turn any ordinary night into an extraordinary game night filled with friendly competition and shared joy.\"})"
            ]
          },
          "metadata": {},
          "execution_count": 27
        }
      ],
      "source": [
        "\n",
        "\n",
        "\n",
        "# # Load data using load_data() function\n",
        "main_folder = '/content/drive/My Drive/FileHandler/mainfolder'\n",
        "product_details, sales_data, product_descriptions = load_data(main_folder)\n",
        "\n",
        "# Call the delete function\n",
        "delete(sales_data, product_details, product_descriptions, main_folder)\n"
      ]
    },
    {
      "cell_type": "markdown",
      "metadata": {
        "id": "lTP2A3dpUNRI"
      },
      "source": [
        "### Checklist\n",
        "- Defined the `delete()` function with the specified parameters\n",
        "- Checked if the given SKU exists in each dictionary before attempting deletion\n",
        "- Deleted the corresponding entry for the given SKU from each dictionary if it exists\n",
        "- Deleted the corresponding JSON and TXT files\n",
        "- Provided appropriate feedback messages indicating the outcome of the deletion process"
      ]
    },
    {
      "cell_type": "markdown",
      "metadata": {
        "id": "vU3YMmGlNTQx"
      },
      "source": [
        "# Stage 6 - Bringing it all together\n",
        "In this stage, you will combine all the functions you have created so far into one main function called `user_menu()`. This function will work as an interface for the user where they can choose the operation they want to perform. If they choose to exit, the function will write the data into the disk. Therefore, besides the `user_menu()` function, you will also define the `dump_data()` function which writes the data into the disk.\n",
        "\n",
        "You will do this by performing the following tasks:\n",
        "- Task 17 - Save data to disk\n",
        "- Task 18 - Create a user menu"
      ]
    },
    {
      "cell_type": "markdown",
      "metadata": {
        "id": "ccFlC9OGdejQ"
      },
      "source": [
        "## Task 17 - Save data to disk"
      ]
    },
    {
      "cell_type": "markdown",
      "metadata": {
        "id": "UqDs8HZ7dYZx"
      },
      "source": [
        "### Description\n",
        "\n",
        "In this task, learners are tasked with implementing a Python function named `dump_data()` that automates the process of persisting sales data, product details, and product descriptions into structured files within a specified directory. The function should efficiently organize and dump each type of data into its corresponding file format: CSV for sales data, JSON for product details, and plain text for product descriptions. This exercise challenges learners to apply file I/O operations, directory management, and data serialization techniques in Python, ensuring they gain practical experience with data persistence, manipulation, and organization on the filesystem."
      ]
    },
    {
      "cell_type": "markdown",
      "metadata": {
        "id": "ffUjhTwTdYRw"
      },
      "source": [
        "### Requirements\n",
        "- Define a function named `dump_data()` that dumps product details, sales data, and product descriptions into files within a specified main folder.\n",
        "- The function should accept four parameters:\n",
        "  - `sales_data`: A dictionary containing sales data, with SKU as keys and a list of sales quantities for the last 14 days as values.\n",
        "  - `product_details`: A dictionary containing product details, with SKU as keys and details as values. Details include attributes like name, brand, model, specifications, price, and availability.\n",
        "  - `product_descriptions`: A dictionary containing product descriptions, with SKU as keys and the textual description of the product as values.\n",
        "  - `main_folder`: A string representing the location of the main folder, which should contain `product_details` and `product_descriptions` subfolders.\n",
        "- The function performs the following operations:\n",
        "  - Dumps the `sales_data` into a CSV file named `sales_data.csv` located in the *main_folder*. Each row in the CSV file represents the sales data for a product, with fields for the SKU and sales quantities for each of the 14 days.\n",
        "  - Dumps each entry in `product_details` into a separate JSON file within the `product_details` subfolder of the `main_folder`. Each file is named after the SKU of the product and contains the details of that product in JSON format.\n",
        "  - Dumps each product description from `product_descriptions` into a separate TXT file within the `product_descriptions` subfolder of the *main_folder*. Each file is named after the SKU of the product and contains the textual description of that product.\n",
        "- Prior to dumping product details and descriptions, the function checks if the respective subfolders exist. If not, it creates them.\n",
        "- Usage:\n",
        "  - The function is designed to persist the current state of sales data, product details, and product descriptions to the filesystem, allowing for data backup and recovery. It organizes the persisted data into a structured directory and file system based on the specified *main_folder* path.\n"
      ]
    },
    {
      "cell_type": "markdown",
      "metadata": {
        "id": "bvtuWxwvdYOD"
      },
      "source": [
        "### Recommendations\n",
        "- Ensure that you are writing the data down with the same folder structure as the original folder.\n",
        "- You may want to learn more about the `DictWriter()` object from the `csv` library to write the sales data.\n",
        "- Make sure that you open files with a 'w' parameter so that you are overwriting the files and not appending to them.\n",
        "- Provide the data description and requirements to ChatGPT along with the libraries that you are using and ask it to generate code for the function.\n",
        "- If you get stuck somewhere, you can ask ChatGPT to explain the code to you and you can make edits as required."
      ]
    },
    {
      "cell_type": "code",
      "execution_count": 32,
      "metadata": {
        "id": "PMuHRcMELNoq"
      },
      "outputs": [],
      "source": [
        "def dump_data(sales_data, product_details, product_descriptions, main_folder, delete_op):\n",
        "    \"\"\"\n",
        "    Dump product details, sales data, and product descriptions to files.\n",
        "\n",
        "    Parameters:\n",
        "        sales_data (dict): The dictionary containing sales data.\n",
        "        product_details (dict): The dictionary containing product details.\n",
        "        product_descriptions (dict): The dictionary containing product descriptions.\n",
        "        main_folder (str): The location of the main folder containing product_details and product_descriptions folders.\n",
        "    \"\"\"\n",
        "    # Save updated sales data to CSV file\n",
        "    if sales_data:\n",
        "        sales_data_file = os.path.join(main_folder, 'sales_data.csv')\n",
        "        with open(sales_data_file, 'w', newline='') as file:\n",
        "            writer = csv.writer(file)\n",
        "            # Write header\n",
        "            writer.writerow(['Product_SKU'] + [f'Day{i}' for i in range(1, 15)])\n",
        "            # Write data\n",
        "            for sku, quantities in sales_data.items():\n",
        "                writer.writerow([sku] + quantities)\n",
        "\n",
        "    if not delete_op:\n",
        "\n",
        "          # Save product details to JSON files\n",
        "          if product_details:\n",
        "              details_folder = os.path.join(main_folder, 'product_details')\n",
        "              for sku, details in product_details.items():\n",
        "                  file_path = os.path.join(details_folder, f\"{sku}.json\")\n",
        "                  with open(file_path, 'w') as file:\n",
        "                      json.dump(details, file,indent=2)\n",
        "\n",
        "          # Save product descriptions to TXT files\n",
        "          if product_descriptions:\n",
        "              descriptions_folder = os.path.join(main_folder, 'product_descriptions')\n",
        "              for sku, description in product_descriptions.items():\n",
        "                  file_path = os.path.join(descriptions_folder, f\"{sku}.txt\")\n",
        "                  with open(file_path, 'w') as file:\n",
        "                      file.write(description)\n"
      ]
    },
    {
      "cell_type": "markdown",
      "metadata": {
        "id": "Q0IRwQvIDAaB"
      },
      "source": [
        "Check your code here."
      ]
    },
    {
      "cell_type": "code",
      "execution_count": 24,
      "metadata": {
        "id": "JvvgYdPUDBf6"
      },
      "outputs": [],
      "source": [
        "# # Load data using load_data() function\n",
        "# main_folder = '/content/drive/My Drive/FileHandler/mainfolder'\n",
        "# product_details, sales_data, product_descriptions = load_data(main_folder)\n",
        "# # product_details, sales_data, product_descriptions = create(product_details, sales_data, product_descriptions, main_folder)\n",
        "# product_details, sales_data, product_descriptions = update(product_details, sales_data, product_descriptions)\n",
        "# # Call the dump_data function\n",
        "# dump_data(sales_data, product_details, product_descriptions, main_folder)\n"
      ]
    },
    {
      "cell_type": "markdown",
      "metadata": {
        "id": "N5PVdR8mATvh"
      },
      "source": [
        "### Checklist\n",
        "- Defined the `dump_data()` function with the specified parameters\n",
        "- Saved the sales data, product details and the product description into the respective files\n",
        "- Ensured that the folder structure remains the same for future use"
      ]
    },
    {
      "cell_type": "markdown",
      "metadata": {
        "id": "M157y1lXAloF"
      },
      "source": [
        "## Task 18 - Create a user menu"
      ]
    },
    {
      "cell_type": "markdown",
      "metadata": {
        "id": "-hqjWCtJAu4P"
      },
      "source": [
        "### Description\n",
        "\n",
        "In this task, you will implement a Python function named `user_menu()` to act as the central interface for a product data management system. This function will integrate create, read, update, and delete (CRUD) operations, allowing users to manage product information interactively from the command line. Your implementation should handle data loading from a specified directory, user input processing to select the desired operation, and data persistence upon exit. This exercise aims to reinforce skills in Python related to function definition, user input handling, conditional logic, and file I/O operations, encapsulating them within a practical application for data management.\n"
      ]
    },
    {
      "cell_type": "markdown",
      "metadata": {
        "id": "b3Vm7wGJAtuo"
      },
      "source": [
        "### Requirements\n",
        "\n",
        "- Define a function named `user_menu()` that serves as the primary interface for managing product data, encompassing create, read, update, and delete (CRUD) operations.\n",
        "- The function should accept one parameter:\n",
        "  - `main_folder`: A string that denotes the path to the main folder where the product data files are stored or will be stored.\n",
        "- Tasks performed by the function include:\n",
        "  - Initially loading existing product data from the files located within `main_folder` by invoking a `load_data()` function. It is presumed that `load_data()` returns three dictionaries: `product_details`, `sales_data`, and `product_descriptions`, each representing different facets of the product data.\n",
        "  - Presenting a menu with options for the user to create new product data, read existing data, update current data, delete data, or exit the application.\n",
        "  - Depending on the user's choice, the function calls other specialized functions (`create()`, `read()`, `update()`, `delete()`) and passes the relevant parameters to these functions for the execution of the selected operation.\n",
        "    - For operations involving the creation, reading, and updating of data, it uses the current states of `product_details`, `sales_data`, and `product_descriptions`.\n",
        "    - For the delete operation, it additionally passes the `main_folder` path to specify the location from which the files associated with the deleted product should be removed.\n",
        "  - After the completion of create, update, or delete operations, the function now calls a `dump_data()` function to persist the most recent state of the product data into files within the `main_folder`. This ensures that changes are saved immediately after these operations.\n",
        "  - When the exit option (option 5) is chosen, it makes a final call to `dump_data()` to save the latest product data before printing an exit message and terminating the program loop.\n",
        "- The function is designed to loop continuously, allowing the user to execute multiple operations until the exit option is selected.\n",
        "- It ensures a robust user interaction experience by handling invalid inputs effectively and guiding the user back to the menu options.\n",
        "- Usage scenario:\n",
        "  - The `user_menu()` function acts as the central component of a product data management system. It offers a user-friendly command-line interface for performing CRUD operations on product data and integrates file handling for data persistence. This approach guarantees that all changes to the data are immediately saved and can be accessed in subsequent sessions.\n"
      ]
    },
    {
      "cell_type": "markdown",
      "metadata": {
        "id": "dvuc2ZfHA2r6"
      },
      "source": [
        "### Recommendations\n",
        "- Provide the data description and requirements to ChatGPT along with the libraries that you are using and ask it to generate code for the function.\n",
        "- If you get stuck somewhere, you can ask ChatGPT to explain the code to you and you can make edits as required."
      ]
    },
    {
      "cell_type": "code",
      "execution_count": 33,
      "metadata": {
        "id": "3KWsmOSwfG6Y"
      },
      "outputs": [],
      "source": [
        "def user_menu(main_folder):\n",
        "    \"\"\"\n",
        "    Main menu to manage product data including create, read, update, and delete operations.\n",
        "    \"\"\"\n",
        "    # Load data using load_data() function\n",
        "    product_details, sales_data, product_descriptions = load_data(main_folder)\n",
        "    is_delete_op = False\n",
        "\n",
        "    while True:\n",
        "        print(\"\\nSelect the operation you want to perform:\")\n",
        "        print(\"1. Create\")\n",
        "        print(\"2. Read\")\n",
        "        print(\"3. Update\")\n",
        "        print(\"4. Delete\")\n",
        "        print(\"5. Exit\")\n",
        "\n",
        "        choice = input(\"Enter your choice (1-5): \")\n",
        "        if choice == '1':\n",
        "\n",
        "            product_details, sales_data, product_descriptions = create(product_details, sales_data, product_descriptions, main_folder)\n",
        "\n",
        "\n",
        "        elif choice == '2':\n",
        "            read(sales_data, product_details, product_descriptions)\n",
        "\n",
        "        elif choice == '3':\n",
        "\n",
        "            product_details, sales_data, product_descriptions = update(product_details, sales_data, product_descriptions)\n",
        "\n",
        "        elif choice == '4':\n",
        "\n",
        "            is_delete_op = True\n",
        "            delete(sales_data, product_details, product_descriptions, main_folder)\n",
        "\n",
        "        elif choice == '5':\n",
        "            dump_data(sales_data, product_details, product_descriptions, main_folder, is_delete_op)\n",
        "            if is_delete_op:\n",
        "              is_delete_op = False\n",
        "            print(\"Data Saved Successfully.........\")\n",
        "\n",
        "\n",
        "            break\n",
        "\n",
        "        else:\n",
        "            print(\"Invalid choice. Please enter a number from 1 to 5.\")\n",
        "\n",
        ""
      ]
    },
    {
      "cell_type": "markdown",
      "metadata": {
        "id": "FECddsr3DDe3"
      },
      "source": [
        "Check your code here."
      ]
    },
    {
      "cell_type": "code",
      "execution_count": 36,
      "metadata": {
        "id": "1geiXwdRDD2l",
        "colab": {
          "base_uri": "https://localhost:8080/"
        },
        "outputId": "0b36fc3a-27b3-44ec-9961-8524c361f97a"
      },
      "outputs": [
        {
          "output_type": "stream",
          "name": "stdout",
          "text": [
            "\n",
            "Select the operation you want to perform:\n",
            "1. Create\n",
            "2. Read\n",
            "3. Update\n",
            "4. Delete\n",
            "5. Exit\n",
            "Enter your choice (1-5): 1\n",
            "Enter the SKU (must be 13 characters long): KULDEEP111111\n",
            "Enter sales data for the last 14 days (separated by commas): 11,22,33,44,55,66,77,88,99,100,111,112,113,1\n",
            "Enter product name: Car\n",
            "Enter brand: Benz\n",
            "Enter model: A12\n",
            "Enter specifications: Automatic, 4-wheel drive, leather seats and 5 star rating\n",
            "Enter price: $45000\n",
            "Enter availability: In Stock\n",
            "Enter product description: Luxurious Benz A6AVM with automatic transmission, 4-wheel drive, and premium leather seats.\n",
            "Product added successfully.\n",
            "\n",
            "Select the operation you want to perform:\n",
            "1. Create\n",
            "2. Read\n",
            "3. Update\n",
            "4. Delete\n",
            "5. Exit\n",
            "Enter your choice (1-5): 2\n",
            "Enter the SKU of the product you wish to inquire about: KULDEEP111111\n",
            "Sales Data for SKU KULDEEP111111:\n",
            "[11, 22, 33, 44, 55, 66, 77, 88, 99, 100, 111, 112, 113, 1]\n",
            "Product Details for SKU KULDEEP111111:\n",
            "{'availability': 'In Stock',\n",
            " 'brand': 'Benz',\n",
            " 'model': 'A12',\n",
            " 'price': '$45000',\n",
            " 'product_name': 'Car',\n",
            " 'specifications': 'Automatic, 4-wheel drive, leather seats and 5 star rating'}\n",
            "Product Description for SKU KULDEEP111111:\n",
            "Luxurious Benz A6AVM with automatic transmission, 4-wheel drive, and premium leather seats.\n",
            "\n",
            "Select the operation you want to perform:\n",
            "1. Create\n",
            "2. Read\n",
            "3. Update\n",
            "4. Delete\n",
            "5. Exit\n",
            "Enter your choice (1-5): 3\n",
            "Enter the SKU of the product you want to update: KULDEEP111111\n",
            "\n",
            "Select the information you want to update:\n",
            "1. Sales Data\n",
            "2. Product Details\n",
            "3. Product Description\n",
            "4. Exit\n",
            "Enter your choice (1-4): 1\n",
            "Enter new sales quantities for the last 14 days (comma-separated): 10,20,30,40,55,66,77,88,99,100,111,112,113,10\n",
            "Sales data for SKU KULDEEP111111 updated successfully.\n",
            "\n",
            "Select the information you want to update:\n",
            "1. Sales Data\n",
            "2. Product Details\n",
            "3. Product Description\n",
            "4. Exit\n",
            "Enter your choice (1-4): 2\n",
            "Enter updated product name: Car2\n",
            "Enter updated brand: Audi\n",
            "Enter updated model: A14\n",
            "Enter updated specifications: Automatic Audi Car, 4-wheel drive, leather seats and 3 star rating\n",
            "Enter updated price: $55000\n",
            "Enter updated availability: In Stock\n",
            "Product details for SKU KULDEEP111111 updated successfully.\n",
            "\n",
            "Select the information you want to update:\n",
            "1. Sales Data\n",
            "2. Product Details\n",
            "3. Product Description\n",
            "4. Exit\n",
            "Enter your choice (1-4): 3\n",
            "Enter updated product description: Luxurious Audi super car with automatic transmission, 4-wheel drive with boosters, and premium leather seats.\n",
            "Product description for SKU KULDEEP111111 updated successfully.\n",
            "\n",
            "Select the information you want to update:\n",
            "1. Sales Data\n",
            "2. Product Details\n",
            "3. Product Description\n",
            "4. Exit\n",
            "Enter your choice (1-4): 4\n",
            "Exiting update process.\n",
            "\n",
            "Select the operation you want to perform:\n",
            "1. Create\n",
            "2. Read\n",
            "3. Update\n",
            "4. Delete\n",
            "5. Exit\n",
            "Enter your choice (1-5): 2\n",
            "Enter the SKU of the product you wish to inquire about: KULDEEP111111\n",
            "Sales Data for SKU KULDEEP111111:\n",
            "[10, 20, 30, 40, 55, 66, 77, 88, 99, 100, 111, 112, 113, 10]\n",
            "Product Details for SKU KULDEEP111111:\n",
            "{'availability': 'In Stock',\n",
            " 'brand': 'Audi',\n",
            " 'model': 'A14',\n",
            " 'price': '$55000',\n",
            " 'product_name': 'Car2',\n",
            " 'specifications': 'Automatic Audi Car, 4-wheel drive, leather seats and 3 '\n",
            "                   'star rating'}\n",
            "Product Description for SKU KULDEEP111111:\n",
            "Luxurious Audi super car with automatic transmission, 4-wheel drive with boosters, and premium leather seats.\n",
            "\n",
            "Select the operation you want to perform:\n",
            "1. Create\n",
            "2. Read\n",
            "3. Update\n",
            "4. Delete\n",
            "5. Exit\n",
            "Enter your choice (1-5): 5\n",
            "Data Saved Successfully.........\n"
          ]
        }
      ],
      "source": [
        "user_menu(main_folder = \"/content/drive/My Drive/FileHandler/mainfolder\")"
      ]
    },
    {
      "cell_type": "code",
      "execution_count": 39,
      "metadata": {
        "id": "Dq7kPDNyCdIC",
        "colab": {
          "base_uri": "https://localhost:8080/"
        },
        "outputId": "123a3e5b-89d0-4cc2-cd70-a677a9d5a301"
      },
      "outputs": [
        {
          "output_type": "stream",
          "name": "stdout",
          "text": [
            "\n",
            "Select the operation you want to perform:\n",
            "1. Create\n",
            "2. Read\n",
            "3. Update\n",
            "4. Delete\n",
            "5. Exit\n",
            "Enter your choice (1-5): 2\n",
            "Enter the SKU of the product you wish to inquire about: KULDEEP111111\n",
            "Sales Data for SKU KULDEEP111111:\n",
            "[10, 20, 30, 40, 55, 66, 77, 88, 99, 100, 111, 112, 113, 10]\n",
            "Product Details for SKU KULDEEP111111:\n",
            "{'availability': 'In Stock',\n",
            " 'brand': 'Audi',\n",
            " 'model': 'A14',\n",
            " 'price': '$55000',\n",
            " 'product_name': 'Car2',\n",
            " 'specifications': 'Automatic Audi Car, 4-wheel drive, leather seats and 3 '\n",
            "                   'star rating'}\n",
            "Product Description for SKU KULDEEP111111:\n",
            "Luxurious Audi super car with automatic transmission, 4-wheel drive with boosters, and premium leather seats.\n",
            "\n",
            "Select the operation you want to perform:\n",
            "1. Create\n",
            "2. Read\n",
            "3. Update\n",
            "4. Delete\n",
            "5. Exit\n",
            "Enter your choice (1-5): 4\n",
            "Enter the SKU of the product you want to delete: KULDEEP111111\n",
            "Deleted JSON file for SKU KULDEEP111111.\n",
            "Deleted text file for SKU KULDEEP111111.\n",
            "Deleted entry for SKU KULDEEP111111 from sales_data.\n",
            "Deleted entries for SKU KULDEEP111111 from dictionaries\n",
            "\n",
            "Select the operation you want to perform:\n",
            "1. Create\n",
            "2. Read\n",
            "3. Update\n",
            "4. Delete\n",
            "5. Exit\n",
            "Enter your choice (1-5): 5\n",
            "Data Saved Successfully.........\n"
          ]
        }
      ],
      "source": [
        "#To check delete function after reading\n",
        "user_menu(main_folder = \"/content/drive/My Drive/FileHandler/mainfolder\")"
      ]
    },
    {
      "cell_type": "code",
      "source": [
        "# To read and see if sku deleted or not\n",
        "user_menu(main_folder = \"/content/drive/My Drive/FileHandler/mainfolder\")"
      ],
      "metadata": {
        "colab": {
          "base_uri": "https://localhost:8080/"
        },
        "id": "GiUkagnGPO3y",
        "outputId": "ea440e14-07a8-49f5-ea0f-2ccc51b4f5c8"
      },
      "execution_count": 40,
      "outputs": [
        {
          "output_type": "stream",
          "name": "stdout",
          "text": [
            "\n",
            "Select the operation you want to perform:\n",
            "1. Create\n",
            "2. Read\n",
            "3. Update\n",
            "4. Delete\n",
            "5. Exit\n",
            "Enter your choice (1-5): 2\n",
            "Enter the SKU of the product you wish to inquire about: KULDEEP111111\n",
            "Product with SKU KULDEEP111111 not found.\n",
            "\n",
            "Select the operation you want to perform:\n",
            "1. Create\n",
            "2. Read\n",
            "3. Update\n",
            "4. Delete\n",
            "5. Exit\n",
            "Enter your choice (1-5): 5\n",
            "Data Saved Successfully.........\n"
          ]
        }
      ]
    },
    {
      "cell_type": "markdown",
      "metadata": {
        "id": "0jORXEqHBNtz"
      },
      "source": [
        "### Checklist\n",
        "- Defined the `user_menu()` function with the specified parameter for the main folder location\n",
        "- Loaded existing product data (`product_details`, `sales_data`, `product_descriptions`) from the specified main folder using a `load_data()` function at the start\n",
        "- Displayed a user-friendly menu that listed all possible operations: Create, Read, Update, Delete, and Exit\n",
        "- Processed user input to navigate through the menu options, calling the relevant function (`create()`, `read()`, `update()`, `delete()`) based on the selection and updated the product data accordingly. If \"Exit\" was selected, saved the current state of the product data into the main folder and exited the program\n",
        "- Ensured robust input validation, handling invalid choices by displaying an error message and prompting the user again\n",
        "- Before exiting the program, ensured data persistence by saving the updated product data to the specified main folder\n",
        "- Maintained the integrity of the folder structure during the function's operation to ensure consistency for future use\n"
      ]
    }
  ],
  "metadata": {
    "colab": {
      "provenance": [],
      "toc_visible": true
    },
    "kernelspec": {
      "display_name": "Python 3 (ipykernel)",
      "language": "python",
      "name": "python3"
    },
    "language_info": {
      "codemirror_mode": {
        "name": "ipython",
        "version": 3
      },
      "file_extension": ".py",
      "mimetype": "text/x-python",
      "name": "python",
      "nbconvert_exporter": "python",
      "pygments_lexer": "ipython3",
      "version": "3.11.5"
    }
  },
  "nbformat": 4,
  "nbformat_minor": 0
}